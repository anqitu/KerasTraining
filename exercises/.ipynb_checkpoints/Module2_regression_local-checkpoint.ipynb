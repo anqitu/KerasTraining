{
 "cells": [
  {
   "cell_type": "code",
   "execution_count": 1,
   "metadata": {},
   "outputs": [],
   "source": [
    "import pandas as pd"
   ]
  },
  {
   "cell_type": "code",
   "execution_count": 2,
   "metadata": {},
   "outputs": [],
   "source": [
    "from sklearn.preprocessing import MinMaxScaler"
   ]
  },
  {
   "cell_type": "code",
   "execution_count": 193,
   "metadata": {},
   "outputs": [
    {
     "name": "stdout",
     "output_type": "stream",
     "text": [
      "/Users/anqitu/Workspaces/Tertiary-Courses/KerasTraining/exercises\r\n"
     ]
    }
   ],
   "source": [
    "!pwd"
   ]
  },
  {
   "cell_type": "code",
   "execution_count": 194,
   "metadata": {},
   "outputs": [],
   "source": [
    "# Load the data\n",
    "training_data_df = pd.read_csv('./data/sales_data_training.csv')"
   ]
  },
  {
   "cell_type": "code",
   "execution_count": 195,
   "metadata": {},
   "outputs": [
    {
     "data": {
      "text/html": [
       "<div>\n",
       "<style scoped>\n",
       "    .dataframe tbody tr th:only-of-type {\n",
       "        vertical-align: middle;\n",
       "    }\n",
       "\n",
       "    .dataframe tbody tr th {\n",
       "        vertical-align: top;\n",
       "    }\n",
       "\n",
       "    .dataframe thead th {\n",
       "        text-align: right;\n",
       "    }\n",
       "</style>\n",
       "<table border=\"1\" class=\"dataframe\">\n",
       "  <thead>\n",
       "    <tr style=\"text-align: right;\">\n",
       "      <th></th>\n",
       "      <th>critic_rating</th>\n",
       "      <th>is_action</th>\n",
       "      <th>is_exclusive_to_us</th>\n",
       "      <th>is_portable</th>\n",
       "      <th>is_role_playing</th>\n",
       "      <th>is_sequel</th>\n",
       "      <th>is_sports</th>\n",
       "      <th>suitable_for_kids</th>\n",
       "      <th>total_earnings</th>\n",
       "      <th>unit_price</th>\n",
       "    </tr>\n",
       "  </thead>\n",
       "  <tbody>\n",
       "    <tr>\n",
       "      <th>0</th>\n",
       "      <td>3.5</td>\n",
       "      <td>1</td>\n",
       "      <td>0</td>\n",
       "      <td>1</td>\n",
       "      <td>0</td>\n",
       "      <td>1</td>\n",
       "      <td>0</td>\n",
       "      <td>0</td>\n",
       "      <td>132717</td>\n",
       "      <td>59.99</td>\n",
       "    </tr>\n",
       "    <tr>\n",
       "      <th>1</th>\n",
       "      <td>4.5</td>\n",
       "      <td>0</td>\n",
       "      <td>0</td>\n",
       "      <td>0</td>\n",
       "      <td>0</td>\n",
       "      <td>1</td>\n",
       "      <td>1</td>\n",
       "      <td>0</td>\n",
       "      <td>83407</td>\n",
       "      <td>49.99</td>\n",
       "    </tr>\n",
       "    <tr>\n",
       "      <th>2</th>\n",
       "      <td>3.0</td>\n",
       "      <td>0</td>\n",
       "      <td>0</td>\n",
       "      <td>0</td>\n",
       "      <td>0</td>\n",
       "      <td>1</td>\n",
       "      <td>1</td>\n",
       "      <td>0</td>\n",
       "      <td>62423</td>\n",
       "      <td>49.99</td>\n",
       "    </tr>\n",
       "    <tr>\n",
       "      <th>3</th>\n",
       "      <td>4.5</td>\n",
       "      <td>1</td>\n",
       "      <td>0</td>\n",
       "      <td>0</td>\n",
       "      <td>0</td>\n",
       "      <td>0</td>\n",
       "      <td>0</td>\n",
       "      <td>1</td>\n",
       "      <td>69889</td>\n",
       "      <td>39.99</td>\n",
       "    </tr>\n",
       "    <tr>\n",
       "      <th>4</th>\n",
       "      <td>4.0</td>\n",
       "      <td>1</td>\n",
       "      <td>0</td>\n",
       "      <td>1</td>\n",
       "      <td>0</td>\n",
       "      <td>1</td>\n",
       "      <td>0</td>\n",
       "      <td>1</td>\n",
       "      <td>161382</td>\n",
       "      <td>59.99</td>\n",
       "    </tr>\n",
       "  </tbody>\n",
       "</table>\n",
       "</div>"
      ],
      "text/plain": [
       "   critic_rating  is_action  is_exclusive_to_us  is_portable  is_role_playing  \\\n",
       "0            3.5          1                   0            1                0   \n",
       "1            4.5          0                   0            0                0   \n",
       "2            3.0          0                   0            0                0   \n",
       "3            4.5          1                   0            0                0   \n",
       "4            4.0          1                   0            1                0   \n",
       "\n",
       "   is_sequel  is_sports  suitable_for_kids  total_earnings  unit_price  \n",
       "0          1          0                  0          132717       59.99  \n",
       "1          1          1                  0           83407       49.99  \n",
       "2          1          1                  0           62423       49.99  \n",
       "3          0          0                  1           69889       39.99  \n",
       "4          1          0                  1          161382       59.99  "
      ]
     },
     "execution_count": 195,
     "metadata": {},
     "output_type": "execute_result"
    }
   ],
   "source": [
    "training_data_df.head()"
   ]
  },
  {
   "cell_type": "code",
   "execution_count": 196,
   "metadata": {},
   "outputs": [],
   "source": [
    "# Scale the data\n",
    "scaler = MinMaxScaler(feature_range=(0,1))\n",
    "scaled_training = scaler.fit_transform(training_data_df)"
   ]
  },
  {
   "cell_type": "code",
   "execution_count": 197,
   "metadata": {},
   "outputs": [],
   "source": [
    "scaled_training_df = pd.DataFrame(scaled_training,columns=training_data_df.columns.values)\n",
    "#scaled_training_df.to_csv('./data/sales_training_scaled.csv',index=False)"
   ]
  },
  {
   "cell_type": "code",
   "execution_count": 206,
   "metadata": {},
   "outputs": [],
   "source": [
    "X = scaled_training_df.drop('total_earnings',axis=1).values\n",
    "y = scaled_training_df[['total_earnings']].values"
   ]
  },
  {
   "cell_type": "code",
   "execution_count": 207,
   "metadata": {},
   "outputs": [],
   "source": [
    "import keras"
   ]
  },
  {
   "cell_type": "code",
   "execution_count": 208,
   "metadata": {},
   "outputs": [],
   "source": [
    "from keras.models import Sequential\n",
    "from keras.layers import Dense"
   ]
  },
  {
   "cell_type": "code",
   "execution_count": 209,
   "metadata": {},
   "outputs": [],
   "source": [
    "model = Sequential()\n",
    "model.add(Dense(50,input_dim=9,activation='relu'))\n",
    "model.add(Dense(100,activation='relu'))\n",
    "model.add(Dense(200,activation='relu'))\n",
    "model.add(Dense(1,activation='linear'))"
   ]
  },
  {
   "cell_type": "code",
   "execution_count": 210,
   "metadata": {},
   "outputs": [],
   "source": [
    "#model.summary()"
   ]
  },
  {
   "cell_type": "code",
   "execution_count": 211,
   "metadata": {},
   "outputs": [],
   "source": [
    "model.compile(loss='mean_squared_error',optimizer='adam')"
   ]
  },
  {
   "cell_type": "code",
   "execution_count": 212,
   "metadata": {},
   "outputs": [
    {
     "name": "stdout",
     "output_type": "stream",
     "text": [
      "Train on 800 samples, validate on 200 samples\n",
      "Epoch 1/50\n",
      "800/800 [==============================] - 1s 634us/step - loss: 0.0541 - val_loss: 0.0137\n",
      "Epoch 2/50\n",
      "800/800 [==============================] - 0s 63us/step - loss: 0.0082 - val_loss: 0.0051\n",
      "Epoch 3/50\n",
      "800/800 [==============================] - 0s 85us/step - loss: 0.0034 - val_loss: 0.0028\n",
      "Epoch 4/50\n",
      "800/800 [==============================] - 0s 81us/step - loss: 0.0016 - val_loss: 0.0012\n",
      "Epoch 5/50\n",
      "800/800 [==============================] - 0s 72us/step - loss: 7.8343e-04 - val_loss: 8.0724e-04\n",
      "Epoch 6/50\n",
      "800/800 [==============================] - 0s 62us/step - loss: 4.2438e-04 - val_loss: 4.1129e-04\n",
      "Epoch 7/50\n",
      "800/800 [==============================] - 0s 70us/step - loss: 3.0157e-04 - val_loss: 2.6876e-04\n",
      "Epoch 8/50\n",
      "800/800 [==============================] - 0s 69us/step - loss: 1.8181e-04 - val_loss: 2.3001e-04\n",
      "Epoch 9/50\n",
      "800/800 [==============================] - 0s 73us/step - loss: 1.4191e-04 - val_loss: 2.0316e-04\n",
      "Epoch 10/50\n",
      "800/800 [==============================] - 0s 67us/step - loss: 1.0245e-04 - val_loss: 1.7161e-04\n",
      "Epoch 11/50\n",
      "800/800 [==============================] - 0s 87us/step - loss: 9.7880e-05 - val_loss: 1.5916e-04\n",
      "Epoch 12/50\n",
      "800/800 [==============================] - 0s 105us/step - loss: 7.1798e-05 - val_loss: 1.3189e-04\n",
      "Epoch 13/50\n",
      "800/800 [==============================] - 0s 87us/step - loss: 5.8782e-05 - val_loss: 1.3534e-04\n",
      "Epoch 14/50\n",
      "800/800 [==============================] - 0s 92us/step - loss: 5.6862e-05 - val_loss: 1.1754e-04\n",
      "Epoch 15/50\n",
      "800/800 [==============================] - 0s 114us/step - loss: 5.0782e-05 - val_loss: 1.1875e-04\n",
      "Epoch 16/50\n",
      "800/800 [==============================] - 0s 63us/step - loss: 4.8416e-05 - val_loss: 9.7271e-05\n",
      "Epoch 17/50\n",
      "800/800 [==============================] - 0s 71us/step - loss: 3.9546e-05 - val_loss: 9.7008e-05\n",
      "Epoch 18/50\n",
      "800/800 [==============================] - 0s 71us/step - loss: 3.8272e-05 - val_loss: 9.1067e-05\n",
      "Epoch 19/50\n",
      "800/800 [==============================] - 0s 74us/step - loss: 4.8397e-05 - val_loss: 9.5691e-05\n",
      "Epoch 20/50\n",
      "800/800 [==============================] - 0s 76us/step - loss: 3.2705e-05 - val_loss: 8.4302e-05\n",
      "Epoch 21/50\n",
      "800/800 [==============================] - 0s 70us/step - loss: 3.1140e-05 - val_loss: 9.4929e-05\n",
      "Epoch 22/50\n",
      "800/800 [==============================] - 0s 83us/step - loss: 3.1512e-05 - val_loss: 8.6623e-05\n",
      "Epoch 23/50\n",
      "800/800 [==============================] - 0s 64us/step - loss: 2.9638e-05 - val_loss: 7.4495e-05\n",
      "Epoch 24/50\n",
      "800/800 [==============================] - 0s 74us/step - loss: 3.8317e-05 - val_loss: 9.6018e-05\n",
      "Epoch 25/50\n",
      "800/800 [==============================] - 0s 82us/step - loss: 2.4731e-05 - val_loss: 9.5243e-05\n",
      "Epoch 26/50\n",
      "800/800 [==============================] - 0s 88us/step - loss: 2.3591e-05 - val_loss: 7.7183e-05\n",
      "Epoch 27/50\n",
      "800/800 [==============================] - 0s 118us/step - loss: 2.0735e-05 - val_loss: 8.0882e-05\n",
      "Epoch 28/50\n",
      "800/800 [==============================] - 0s 90us/step - loss: 2.2913e-05 - val_loss: 8.2612e-05\n",
      "Epoch 29/50\n",
      "800/800 [==============================] - 0s 103us/step - loss: 2.5256e-05 - val_loss: 8.3006e-05\n",
      "Epoch 30/50\n",
      "800/800 [==============================] - 0s 108us/step - loss: 2.4364e-05 - val_loss: 7.9738e-05\n",
      "Epoch 31/50\n",
      "800/800 [==============================] - 0s 83us/step - loss: 2.4484e-05 - val_loss: 7.3746e-05\n",
      "Epoch 32/50\n",
      "800/800 [==============================] - 0s 70us/step - loss: 2.6585e-05 - val_loss: 6.8713e-05\n",
      "Epoch 33/50\n",
      "800/800 [==============================] - 0s 69us/step - loss: 2.5891e-05 - val_loss: 7.8030e-05\n",
      "Epoch 34/50\n",
      "800/800 [==============================] - 0s 80us/step - loss: 2.2026e-05 - val_loss: 6.7490e-05\n",
      "Epoch 35/50\n",
      "800/800 [==============================] - 0s 71us/step - loss: 1.9522e-05 - val_loss: 6.7907e-05\n",
      "Epoch 36/50\n",
      "800/800 [==============================] - 0s 112us/step - loss: 2.3242e-05 - val_loss: 7.6604e-05\n",
      "Epoch 37/50\n",
      "800/800 [==============================] - 0s 105us/step - loss: 3.5257e-05 - val_loss: 1.1254e-04\n",
      "Epoch 38/50\n",
      "800/800 [==============================] - 0s 92us/step - loss: 5.3660e-05 - val_loss: 8.9062e-05\n",
      "Epoch 39/50\n",
      "800/800 [==============================] - 0s 101us/step - loss: 4.0129e-05 - val_loss: 6.2911e-05\n",
      "Epoch 40/50\n",
      "800/800 [==============================] - 0s 91us/step - loss: 1.9557e-05 - val_loss: 6.3482e-05\n",
      "Epoch 41/50\n",
      "800/800 [==============================] - 0s 97us/step - loss: 1.9995e-05 - val_loss: 7.6214e-05\n",
      "Epoch 42/50\n",
      "800/800 [==============================] - 0s 110us/step - loss: 1.9083e-05 - val_loss: 6.7971e-05\n",
      "Epoch 43/50\n",
      "800/800 [==============================] - 0s 84us/step - loss: 2.0318e-05 - val_loss: 7.2775e-05\n",
      "Epoch 44/50\n",
      "800/800 [==============================] - 0s 70us/step - loss: 1.9942e-05 - val_loss: 6.5453e-05\n",
      "Epoch 45/50\n",
      "800/800 [==============================] - 0s 66us/step - loss: 1.9864e-05 - val_loss: 6.1806e-05\n",
      "Epoch 46/50\n",
      "800/800 [==============================] - 0s 70us/step - loss: 1.9886e-05 - val_loss: 8.6731e-05\n",
      "Epoch 47/50\n",
      "800/800 [==============================] - 0s 60us/step - loss: 4.3074e-05 - val_loss: 6.5490e-05\n",
      "Epoch 48/50\n",
      "800/800 [==============================] - 0s 59us/step - loss: 4.7771e-05 - val_loss: 8.2313e-05\n",
      "Epoch 49/50\n",
      "800/800 [==============================] - 0s 69us/step - loss: 3.1735e-05 - val_loss: 6.2876e-05\n",
      "Epoch 50/50\n",
      "800/800 [==============================] - 0s 66us/step - loss: 2.1399e-05 - val_loss: 6.4072e-05\n"
     ]
    }
   ],
   "source": [
    "history = model.fit(X,y,epochs=50,shuffle=True, validation_split = 0.2)"
   ]
  },
  {
   "cell_type": "code",
   "execution_count": 205,
   "metadata": {},
   "outputs": [],
   "source": [
    "scale = scaler.scale_[8]"
   ]
  },
  {
   "cell_type": "code",
   "execution_count": 150,
   "metadata": {},
   "outputs": [
    {
     "data": {
      "text/plain": [
       "array([3.33333333e-01, 1.00000000e+00, 1.00000000e+00, 1.00000000e+00,\n",
       "       1.00000000e+00, 1.00000000e+00, 1.00000000e+00, 1.00000000e+00,\n",
       "       3.69678934e-06, 5.00000000e-02])"
      ]
     },
     "execution_count": 150,
     "metadata": {},
     "output_type": "execute_result"
    }
   ],
   "source": [
    "scaler.scale_"
   ]
  },
  {
   "cell_type": "code",
   "execution_count": 151,
   "metadata": {},
   "outputs": [],
   "source": [
    "min = scaler.min_[8]"
   ]
  },
  {
   "cell_type": "code",
   "execution_count": 158,
   "metadata": {},
   "outputs": [],
   "source": [
    "import numpy as np\n",
    "X_single = np.array([[0.5,1,1,1,0,1,0,1,1]])"
   ]
  },
  {
   "cell_type": "code",
   "execution_count": 159,
   "metadata": {},
   "outputs": [
    {
     "data": {
      "text/plain": [
       "array([[0.5, 1. , 1. , 1. , 0. , 1. , 0. , 1. , 1. ]])"
      ]
     },
     "execution_count": 159,
     "metadata": {},
     "output_type": "execute_result"
    }
   ],
   "source": [
    "X_single"
   ]
  },
  {
   "cell_type": "code",
   "execution_count": 160,
   "metadata": {},
   "outputs": [],
   "source": [
    "yhat= model.predict(X_single)"
   ]
  },
  {
   "cell_type": "code",
   "execution_count": 161,
   "metadata": {},
   "outputs": [
    {
     "data": {
      "text/plain": [
       "array([[0.82898647]], dtype=float32)"
      ]
     },
     "execution_count": 161,
     "metadata": {},
     "output_type": "execute_result"
    }
   ],
   "source": [
    "yhat"
   ]
  },
  {
   "cell_type": "code",
   "execution_count": 162,
   "metadata": {},
   "outputs": [
    {
     "data": {
      "text/plain": [
       "array([[224244.88]], dtype=float32)"
      ]
     },
     "execution_count": 162,
     "metadata": {},
     "output_type": "execute_result"
    }
   ],
   "source": [
    "(yhat/scale)+min"
   ]
  },
  {
   "cell_type": "code",
   "execution_count": 179,
   "metadata": {},
   "outputs": [],
   "source": [
    "import matplotlib.pyplot as plt\n",
    "acc = history.history['loss']\n",
    "val_acc = history.history['loss']\n",
    "epochs = range(1,len(acc)+1)"
   ]
  },
  {
   "cell_type": "code",
   "execution_count": 180,
   "metadata": {},
   "outputs": [],
   "source": [
    "# acc"
   ]
  },
  {
   "cell_type": "code",
   "execution_count": 181,
   "metadata": {},
   "outputs": [
    {
     "data": {
      "image/png": "[encoded data removed]",
      "text/plain": [
       "<Figure size 432x288 with 1 Axes>"
      ]
     },
     "metadata": {
      "needs_background": "light"
     },
     "output_type": "display_data"
    }
   ],
   "source": [
    "plt.plot(epochs, acc,'b',label='Train MSE')\n",
    "plt.plot(epochs, val_acc,'r',label='Val MSE')\n",
    "plt.legend()\n",
    "plt.show()"
   ]
  },
  {
   "cell_type": "code",
   "execution_count": 189,
   "metadata": {},
   "outputs": [
    {
     "data": {
      "image/png": "[encoded data removed]",
      "text/plain": [
       "<Figure size 432x288 with 1 Axes>"
      ]
     },
     "metadata": {
      "needs_background": "light"
     },
     "output_type": "display_data"
    }
   ],
   "source": [
    "plt.plot(epochs[10:], acc[10:],'b',label='Train MSE')\n",
    "plt.plot(epochs[10:], val_acc[10:],'r',label='Val MSE')\n",
    "plt.legend()\n",
    "plt.show()"
   ]
  },
  {
   "cell_type": "markdown",
   "metadata": {},
   "source": [
    "# Evaluate using Test"
   ]
  },
  {
   "cell_type": "code",
   "execution_count": 213,
   "metadata": {},
   "outputs": [],
   "source": [
    "# Load the data\n",
    "testing_data_df = pd.read_csv('./data/sales_data_testing.csv')"
   ]
  },
  {
   "cell_type": "code",
   "execution_count": 214,
   "metadata": {},
   "outputs": [],
   "source": [
    "scaled_testing= scaler.fit_transform(testing_data_df)"
   ]
  },
  {
   "cell_type": "code",
   "execution_count": 215,
   "metadata": {},
   "outputs": [],
   "source": [
    "scaled_testing_df = pd.DataFrame(scaled_testing,columns=training_data_df.columns.values)"
   ]
  },
  {
   "cell_type": "code",
   "execution_count": 216,
   "metadata": {},
   "outputs": [],
   "source": [
    "X_test = scaled_testing_df.drop('total_earnings',axis=1).values\n",
    "y_test = scaled_testing_df[['total_earnings']].values"
   ]
  },
  {
   "cell_type": "code",
   "execution_count": 218,
   "metadata": {},
   "outputs": [],
   "source": [
    "y_pred= model.predict(X_test)\n",
    "# y_pred"
   ]
  },
  {
   "cell_type": "code",
   "execution_count": 219,
   "metadata": {},
   "outputs": [
    {
     "data": {
      "text/plain": [
       "0.03822105119057268"
      ]
     },
     "execution_count": 219,
     "metadata": {},
     "output_type": "execute_result"
    }
   ],
   "source": [
    "from sklearn.metrics import mean_squared_error\n",
    "mean_squared_error(y_pred, y_test) ** 0.5"
   ]
  },
  {
   "cell_type": "code",
   "execution_count": 221,
   "metadata": {},
   "outputs": [
    {
     "data": {
      "text/plain": [
       "0.951133077719753"
      ]
     },
     "execution_count": 221,
     "metadata": {},
     "output_type": "execute_result"
    }
   ],
   "source": [
    "from sklearn.metrics import r2_score\n",
    "r2_score(y_pred, y_test)"
   ]
  },
  {
   "cell_type": "code",
   "execution_count": 223,
   "metadata": {},
   "outputs": [],
   "source": [
    "y_pred_inv = (y_pred/scale)+min"
   ]
  },
  {
   "cell_type": "code",
   "execution_count": 225,
   "metadata": {},
   "outputs": [],
   "source": [
    "y_test_inv = (y_test/scale)+min"
   ]
  },
  {
   "cell_type": "code",
   "execution_count": 226,
   "metadata": {},
   "outputs": [
    {
     "data": {
      "text/plain": [
       "10338.981538557355"
      ]
     },
     "execution_count": 226,
     "metadata": {},
     "output_type": "execute_result"
    }
   ],
   "source": [
    "mean_squared_error(y_pred_inv, y_test_inv) ** 0.5"
   ]
  },
  {
   "cell_type": "code",
   "execution_count": 227,
   "metadata": {},
   "outputs": [
    {
     "data": {
      "text/plain": [
       "0.9511331214858284"
      ]
     },
     "execution_count": 227,
     "metadata": {},
     "output_type": "execute_result"
    }
   ],
   "source": [
    "r2_score(y_pred_inv, y_test_inv)"
   ]
  },
  {
   "cell_type": "markdown",
   "metadata": {},
   "source": [
    "# Challenge: Regression"
   ]
  },
  {
   "cell_type": "code",
   "execution_count": 168,
   "metadata": {},
   "outputs": [],
   "source": [
    "# Load the data\n",
    "training_data_df = pd.read_csv('./data/boston.csv')"
   ]
  },
  {
   "cell_type": "code",
   "execution_count": 169,
   "metadata": {},
   "outputs": [
    {
     "data": {
      "text/html": [
       "<div>\n",
       "<style scoped>\n",
       "    .dataframe tbody tr th:only-of-type {\n",
       "        vertical-align: middle;\n",
       "    }\n",
       "\n",
       "    .dataframe tbody tr th {\n",
       "        vertical-align: top;\n",
       "    }\n",
       "\n",
       "    .dataframe thead th {\n",
       "        text-align: right;\n",
       "    }\n",
       "</style>\n",
       "<table border=\"1\" class=\"dataframe\">\n",
       "  <thead>\n",
       "    <tr style=\"text-align: right;\">\n",
       "      <th></th>\n",
       "      <th>ID</th>\n",
       "      <th>crim</th>\n",
       "      <th>zn</th>\n",
       "      <th>indus</th>\n",
       "      <th>chas</th>\n",
       "      <th>nox</th>\n",
       "      <th>rm</th>\n",
       "      <th>age</th>\n",
       "      <th>dis</th>\n",
       "      <th>rad</th>\n",
       "      <th>tax</th>\n",
       "      <th>ptratio</th>\n",
       "      <th>black</th>\n",
       "      <th>lstat</th>\n",
       "      <th>medv</th>\n",
       "    </tr>\n",
       "  </thead>\n",
       "  <tbody>\n",
       "    <tr>\n",
       "      <th>0</th>\n",
       "      <td>1</td>\n",
       "      <td>0.00632</td>\n",
       "      <td>18.0</td>\n",
       "      <td>2.31</td>\n",
       "      <td>0</td>\n",
       "      <td>0.538</td>\n",
       "      <td>6.575</td>\n",
       "      <td>65.2</td>\n",
       "      <td>4.0900</td>\n",
       "      <td>1</td>\n",
       "      <td>296</td>\n",
       "      <td>15.3</td>\n",
       "      <td>396.90</td>\n",
       "      <td>4.98</td>\n",
       "      <td>24.0</td>\n",
       "    </tr>\n",
       "    <tr>\n",
       "      <th>1</th>\n",
       "      <td>2</td>\n",
       "      <td>0.02731</td>\n",
       "      <td>0.0</td>\n",
       "      <td>7.07</td>\n",
       "      <td>0</td>\n",
       "      <td>0.469</td>\n",
       "      <td>6.421</td>\n",
       "      <td>78.9</td>\n",
       "      <td>4.9671</td>\n",
       "      <td>2</td>\n",
       "      <td>242</td>\n",
       "      <td>17.8</td>\n",
       "      <td>396.90</td>\n",
       "      <td>9.14</td>\n",
       "      <td>21.6</td>\n",
       "    </tr>\n",
       "    <tr>\n",
       "      <th>2</th>\n",
       "      <td>4</td>\n",
       "      <td>0.03237</td>\n",
       "      <td>0.0</td>\n",
       "      <td>2.18</td>\n",
       "      <td>0</td>\n",
       "      <td>0.458</td>\n",
       "      <td>6.998</td>\n",
       "      <td>45.8</td>\n",
       "      <td>6.0622</td>\n",
       "      <td>3</td>\n",
       "      <td>222</td>\n",
       "      <td>18.7</td>\n",
       "      <td>394.63</td>\n",
       "      <td>2.94</td>\n",
       "      <td>33.4</td>\n",
       "    </tr>\n",
       "    <tr>\n",
       "      <th>3</th>\n",
       "      <td>5</td>\n",
       "      <td>0.06905</td>\n",
       "      <td>0.0</td>\n",
       "      <td>2.18</td>\n",
       "      <td>0</td>\n",
       "      <td>0.458</td>\n",
       "      <td>7.147</td>\n",
       "      <td>54.2</td>\n",
       "      <td>6.0622</td>\n",
       "      <td>3</td>\n",
       "      <td>222</td>\n",
       "      <td>18.7</td>\n",
       "      <td>396.90</td>\n",
       "      <td>5.33</td>\n",
       "      <td>36.2</td>\n",
       "    </tr>\n",
       "    <tr>\n",
       "      <th>4</th>\n",
       "      <td>7</td>\n",
       "      <td>0.08829</td>\n",
       "      <td>12.5</td>\n",
       "      <td>7.87</td>\n",
       "      <td>0</td>\n",
       "      <td>0.524</td>\n",
       "      <td>6.012</td>\n",
       "      <td>66.6</td>\n",
       "      <td>5.5605</td>\n",
       "      <td>5</td>\n",
       "      <td>311</td>\n",
       "      <td>15.2</td>\n",
       "      <td>395.60</td>\n",
       "      <td>12.43</td>\n",
       "      <td>22.9</td>\n",
       "    </tr>\n",
       "  </tbody>\n",
       "</table>\n",
       "</div>"
      ],
      "text/plain": [
       "   ID     crim    zn  indus  chas    nox     rm   age     dis  rad  tax  \\\n",
       "0   1  0.00632  18.0   2.31     0  0.538  6.575  65.2  4.0900    1  296   \n",
       "1   2  0.02731   0.0   7.07     0  0.469  6.421  78.9  4.9671    2  242   \n",
       "2   4  0.03237   0.0   2.18     0  0.458  6.998  45.8  6.0622    3  222   \n",
       "3   5  0.06905   0.0   2.18     0  0.458  7.147  54.2  6.0622    3  222   \n",
       "4   7  0.08829  12.5   7.87     0  0.524  6.012  66.6  5.5605    5  311   \n",
       "\n",
       "   ptratio   black  lstat  medv  \n",
       "0     15.3  396.90   4.98  24.0  \n",
       "1     17.8  396.90   9.14  21.6  \n",
       "2     18.7  394.63   2.94  33.4  \n",
       "3     18.7  396.90   5.33  36.2  \n",
       "4     15.2  395.60  12.43  22.9  "
      ]
     },
     "execution_count": 169,
     "metadata": {},
     "output_type": "execute_result"
    }
   ],
   "source": [
    "# median house val\n",
    "training_data_df.head()"
   ]
  },
  {
   "cell_type": "code",
   "execution_count": 170,
   "metadata": {},
   "outputs": [],
   "source": [
    "# Scale the data\n",
    "scaler = MinMaxScaler(feature_range=(0,1))\n",
    "scaled_training = scaler.fit_transform(training_data_df)"
   ]
  },
  {
   "cell_type": "code",
   "execution_count": 171,
   "metadata": {},
   "outputs": [],
   "source": [
    "scaled_training_df = pd.DataFrame(scaled_training,columns=training_data_df.columns.values)"
   ]
  },
  {
   "cell_type": "code",
   "execution_count": 172,
   "metadata": {},
   "outputs": [],
   "source": [
    "X = scaled_training_df.drop('medv',axis=1).values\n",
    "y = scaled_training_df[['medv']].values"
   ]
  },
  {
   "cell_type": "code",
   "execution_count": 173,
   "metadata": {},
   "outputs": [],
   "source": [
    "from sklearn.model_selection import train_test_split\n",
    "X_train, X_test, y_train, y_test = train_test_split(X, y, test_size = 0.3)"
   ]
  },
  {
   "cell_type": "code",
   "execution_count": 174,
   "metadata": {},
   "outputs": [],
   "source": [
    "model = Sequential()\n",
    "model.add(Dense(50,input_dim=X_train.shape[1],activation='relu'))\n",
    "model.add(Dense(100,activation='relu'))\n",
    "model.add(Dense(200,activation='relu'))\n",
    "model.add(Dense(1,activation='linear'))"
   ]
  },
  {
   "cell_type": "code",
   "execution_count": 175,
   "metadata": {},
   "outputs": [],
   "source": [
    "model.compile(loss='mean_squared_error',optimizer='adam')"
   ]
  },
  {
   "cell_type": "code",
   "execution_count": 176,
   "metadata": {},
   "outputs": [
    {
     "name": "stdout",
     "output_type": "stream",
     "text": [
      "Train on 186 samples, validate on 47 samples\n",
      "Epoch 1/50\n",
      "186/186 [==============================] - 0s 2ms/step - loss: 0.0768 - val_loss: 0.0724\n",
      "Epoch 2/50\n",
      "186/186 [==============================] - 0s 74us/step - loss: 0.0401 - val_loss: 0.0274\n",
      "Epoch 3/50\n",
      "186/186 [==============================] - 0s 101us/step - loss: 0.0305 - val_loss: 0.0221\n",
      "Epoch 4/50\n",
      "186/186 [==============================] - 0s 68us/step - loss: 0.0218 - val_loss: 0.0263\n",
      "Epoch 5/50\n",
      "186/186 [==============================] - 0s 147us/step - loss: 0.0186 - val_loss: 0.0152\n",
      "Epoch 6/50\n",
      "186/186 [==============================] - 0s 146us/step - loss: 0.0148 - val_loss: 0.0166\n",
      "Epoch 7/50\n",
      "186/186 [==============================] - 0s 107us/step - loss: 0.0120 - val_loss: 0.0121\n",
      "Epoch 8/50\n",
      "186/186 [==============================] - 0s 96us/step - loss: 0.0108 - val_loss: 0.0127\n",
      "Epoch 9/50\n",
      "186/186 [==============================] - 0s 213us/step - loss: 0.0093 - val_loss: 0.0104\n",
      "Epoch 10/50\n",
      "186/186 [==============================] - 0s 139us/step - loss: 0.0087 - val_loss: 0.0098\n",
      "Epoch 11/50\n",
      "186/186 [==============================] - 0s 145us/step - loss: 0.0083 - val_loss: 0.0165\n",
      "Epoch 12/50\n",
      "186/186 [==============================] - 0s 154us/step - loss: 0.0082 - val_loss: 0.0087\n",
      "Epoch 13/50\n",
      "186/186 [==============================] - 0s 128us/step - loss: 0.0086 - val_loss: 0.0116\n",
      "Epoch 14/50\n",
      "186/186 [==============================] - 0s 85us/step - loss: 0.0069 - val_loss: 0.0083\n",
      "Epoch 15/50\n",
      "186/186 [==============================] - 0s 122us/step - loss: 0.0062 - val_loss: 0.0088\n",
      "Epoch 16/50\n",
      "186/186 [==============================] - 0s 88us/step - loss: 0.0062 - val_loss: 0.0119\n",
      "Epoch 17/50\n",
      "186/186 [==============================] - 0s 73us/step - loss: 0.0063 - val_loss: 0.0077\n",
      "Epoch 18/50\n",
      "186/186 [==============================] - 0s 106us/step - loss: 0.0065 - val_loss: 0.0092\n",
      "Epoch 19/50\n",
      "186/186 [==============================] - 0s 123us/step - loss: 0.0050 - val_loss: 0.0086\n",
      "Epoch 20/50\n",
      "186/186 [==============================] - 0s 109us/step - loss: 0.0046 - val_loss: 0.0079\n",
      "Epoch 21/50\n",
      "186/186 [==============================] - 0s 111us/step - loss: 0.0044 - val_loss: 0.0092\n",
      "Epoch 22/50\n",
      "186/186 [==============================] - 0s 110us/step - loss: 0.0044 - val_loss: 0.0089\n",
      "Epoch 23/50\n",
      "186/186 [==============================] - 0s 106us/step - loss: 0.0045 - val_loss: 0.0075\n",
      "Epoch 24/50\n",
      "186/186 [==============================] - 0s 132us/step - loss: 0.0045 - val_loss: 0.0076\n",
      "Epoch 25/50\n",
      "186/186 [==============================] - 0s 100us/step - loss: 0.0048 - val_loss: 0.0109\n",
      "Epoch 26/50\n",
      "186/186 [==============================] - 0s 113us/step - loss: 0.0038 - val_loss: 0.0068\n",
      "Epoch 27/50\n",
      "186/186 [==============================] - 0s 127us/step - loss: 0.0042 - val_loss: 0.0085\n",
      "Epoch 28/50\n",
      "186/186 [==============================] - 0s 89us/step - loss: 0.0037 - val_loss: 0.0079\n",
      "Epoch 29/50\n",
      "186/186 [==============================] - 0s 98us/step - loss: 0.0033 - val_loss: 0.0075\n",
      "Epoch 30/50\n",
      "186/186 [==============================] - 0s 113us/step - loss: 0.0033 - val_loss: 0.0068\n",
      "Epoch 31/50\n",
      "186/186 [==============================] - 0s 79us/step - loss: 0.0031 - val_loss: 0.0083\n",
      "Epoch 32/50\n",
      "186/186 [==============================] - 0s 107us/step - loss: 0.0032 - val_loss: 0.0073\n",
      "Epoch 33/50\n",
      "186/186 [==============================] - 0s 116us/step - loss: 0.0031 - val_loss: 0.0069\n",
      "Epoch 34/50\n",
      "186/186 [==============================] - 0s 119us/step - loss: 0.0028 - val_loss: 0.0078\n",
      "Epoch 35/50\n",
      "186/186 [==============================] - 0s 90us/step - loss: 0.0027 - val_loss: 0.0066\n",
      "Epoch 36/50\n",
      "186/186 [==============================] - 0s 95us/step - loss: 0.0029 - val_loss: 0.0063\n",
      "Epoch 37/50\n",
      "186/186 [==============================] - 0s 117us/step - loss: 0.0027 - val_loss: 0.0088\n",
      "Epoch 38/50\n",
      "186/186 [==============================] - 0s 96us/step - loss: 0.0029 - val_loss: 0.0073\n",
      "Epoch 39/50\n",
      "186/186 [==============================] - 0s 104us/step - loss: 0.0025 - val_loss: 0.0071\n",
      "Epoch 40/50\n",
      "186/186 [==============================] - 0s 112us/step - loss: 0.0024 - val_loss: 0.0065\n",
      "Epoch 41/50\n",
      "186/186 [==============================] - 0s 79us/step - loss: 0.0024 - val_loss: 0.0085\n",
      "Epoch 42/50\n",
      "186/186 [==============================] - 0s 110us/step - loss: 0.0025 - val_loss: 0.0061\n",
      "Epoch 43/50\n",
      "186/186 [==============================] - 0s 113us/step - loss: 0.0033 - val_loss: 0.0060\n",
      "Epoch 44/50\n",
      "186/186 [==============================] - 0s 93us/step - loss: 0.0037 - val_loss: 0.0101\n",
      "Epoch 45/50\n",
      "186/186 [==============================] - 0s 94us/step - loss: 0.0034 - val_loss: 0.0077\n",
      "Epoch 46/50\n",
      "186/186 [==============================] - 0s 96us/step - loss: 0.0031 - val_loss: 0.0064\n",
      "Epoch 47/50\n",
      "186/186 [==============================] - 0s 78us/step - loss: 0.0035 - val_loss: 0.0076\n",
      "Epoch 48/50\n",
      "186/186 [==============================] - 0s 118us/step - loss: 0.0025 - val_loss: 0.0079\n",
      "Epoch 49/50\n",
      "186/186 [==============================] - 0s 122us/step - loss: 0.0026 - val_loss: 0.0057\n",
      "Epoch 50/50\n",
      "186/186 [==============================] - 0s 124us/step - loss: 0.0024 - val_loss: 0.0067\n"
     ]
    }
   ],
   "source": [
    "history = model.fit(X_train,y_train,epochs=50,shuffle=True, validation_split = 0.2)"
   ]
  },
  {
   "cell_type": "code",
   "execution_count": null,
   "metadata": {},
   "outputs": [],
   "source": [
    "s"
   ]
  },
  {
   "cell_type": "code",
   "execution_count": null,
   "metadata": {},
   "outputs": [],
   "source": []
  }
 ],
 "metadata": {
  "kernelspec": {
   "display_name": "Python 3.5",
   "language": "python",
   "name": "python3.5"
  },
  "language_info": {
   "codemirror_mode": {
    "name": "ipython",
    "version": 3
   },
   "file_extension": ".py",
   "mimetype": "text/x-python",
   "name": "python",
   "nbconvert_exporter": "python",
   "pygments_lexer": "ipython3",
   "version": "3.5.2"
  }
 },
 "nbformat": 4,
 "nbformat_minor": 2
}
