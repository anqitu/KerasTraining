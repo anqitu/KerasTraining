{
 "cells": [
  {
   "cell_type": "code",
   "execution_count": 1,
   "metadata": {},
   "outputs": [],
   "source": [
    "import pandas as pd"
   ]
  },
  {
   "cell_type": "code",
   "execution_count": 2,
   "metadata": {},
   "outputs": [],
   "source": [
    "df = pd.read_csv('./data/iris.csv')"
   ]
  },
  {
   "cell_type": "code",
   "execution_count": 3,
   "metadata": {},
   "outputs": [
    {
     "data": {
      "text/html": [
       "<div>\n",
       "<style scoped>\n",
       "    .dataframe tbody tr th:only-of-type {\n",
       "        vertical-align: middle;\n",
       "    }\n",
       "\n",
       "    .dataframe tbody tr th {\n",
       "        vertical-align: top;\n",
       "    }\n",
       "\n",
       "    .dataframe thead th {\n",
       "        text-align: right;\n",
       "    }\n",
       "</style>\n",
       "<table border=\"1\" class=\"dataframe\">\n",
       "  <thead>\n",
       "    <tr style=\"text-align: right;\">\n",
       "      <th></th>\n",
       "      <th>sepal_length</th>\n",
       "      <th>sepal_width</th>\n",
       "      <th>petal_length</th>\n",
       "      <th>petal_width</th>\n",
       "      <th>species</th>\n",
       "    </tr>\n",
       "  </thead>\n",
       "  <tbody>\n",
       "    <tr>\n",
       "      <th>0</th>\n",
       "      <td>5.1</td>\n",
       "      <td>3.5</td>\n",
       "      <td>1.4</td>\n",
       "      <td>0.2</td>\n",
       "      <td>setosa</td>\n",
       "    </tr>\n",
       "    <tr>\n",
       "      <th>1</th>\n",
       "      <td>4.9</td>\n",
       "      <td>3.0</td>\n",
       "      <td>1.4</td>\n",
       "      <td>0.2</td>\n",
       "      <td>setosa</td>\n",
       "    </tr>\n",
       "    <tr>\n",
       "      <th>2</th>\n",
       "      <td>4.7</td>\n",
       "      <td>3.2</td>\n",
       "      <td>1.3</td>\n",
       "      <td>0.2</td>\n",
       "      <td>setosa</td>\n",
       "    </tr>\n",
       "    <tr>\n",
       "      <th>3</th>\n",
       "      <td>4.6</td>\n",
       "      <td>3.1</td>\n",
       "      <td>1.5</td>\n",
       "      <td>0.2</td>\n",
       "      <td>setosa</td>\n",
       "    </tr>\n",
       "    <tr>\n",
       "      <th>4</th>\n",
       "      <td>5.0</td>\n",
       "      <td>3.6</td>\n",
       "      <td>1.4</td>\n",
       "      <td>0.2</td>\n",
       "      <td>setosa</td>\n",
       "    </tr>\n",
       "  </tbody>\n",
       "</table>\n",
       "</div>"
      ],
      "text/plain": [
       "   sepal_length  sepal_width  petal_length  petal_width species\n",
       "0           5.1          3.5           1.4          0.2  setosa\n",
       "1           4.9          3.0           1.4          0.2  setosa\n",
       "2           4.7          3.2           1.3          0.2  setosa\n",
       "3           4.6          3.1           1.5          0.2  setosa\n",
       "4           5.0          3.6           1.4          0.2  setosa"
      ]
     },
     "execution_count": 3,
     "metadata": {},
     "output_type": "execute_result"
    }
   ],
   "source": [
    "df.head()"
   ]
  },
  {
   "cell_type": "code",
   "execution_count": 4,
   "metadata": {},
   "outputs": [],
   "source": [
    "y = df[['species']].values\n",
    "# y"
   ]
  },
  {
   "cell_type": "code",
   "execution_count": 5,
   "metadata": {},
   "outputs": [],
   "source": [
    "from sklearn.preprocessing import LabelEncoder"
   ]
  },
  {
   "cell_type": "code",
   "execution_count": 6,
   "metadata": {},
   "outputs": [
    {
     "name": "stderr",
     "output_type": "stream",
     "text": [
      "/Users/anqitu/.pyenv/versions/3.5.2/lib/python3.5/site-packages/sklearn/preprocessing/label.py:111: DataConversionWarning: A column-vector y was passed when a 1d array was expected. Please change the shape of y to (n_samples, ), for example using ravel().\n",
      "  y = column_or_1d(y, warn=True)\n"
     ]
    }
   ],
   "source": [
    "le = LabelEncoder()\n",
    "y = le.fit_transform(y)"
   ]
  },
  {
   "cell_type": "code",
   "execution_count": 7,
   "metadata": {},
   "outputs": [
    {
     "data": {
      "text/plain": [
       "array([0, 0, 0, 0, 0, 0, 0, 0, 0, 0, 0, 0, 0, 0, 0, 0, 0, 0, 0, 0, 0, 0,\n",
       "       0, 0, 0, 0, 0, 0, 0, 0, 0, 0, 0, 0, 0, 0, 0, 0, 0, 0, 0, 0, 0, 0,\n",
       "       0, 0, 0, 0, 0, 0, 1, 1, 1, 1, 1, 1, 1, 1, 1, 1, 1, 1, 1, 1, 1, 1,\n",
       "       1, 1, 1, 1, 1, 1, 1, 1, 1, 1, 1, 1, 1, 1, 1, 1, 1, 1, 1, 1, 1, 1,\n",
       "       1, 1, 1, 1, 1, 1, 1, 1, 1, 1, 1, 1, 2, 2, 2, 2, 2, 2, 2, 2, 2, 2,\n",
       "       2, 2, 2, 2, 2, 2, 2, 2, 2, 2, 2, 2, 2, 2, 2, 2, 2, 2, 2, 2, 2, 2,\n",
       "       2, 2, 2, 2, 2, 2, 2, 2, 2, 2, 2, 2, 2, 2, 2, 2, 2, 2])"
      ]
     },
     "execution_count": 7,
     "metadata": {},
     "output_type": "execute_result"
    }
   ],
   "source": [
    "y"
   ]
  },
  {
   "cell_type": "code",
   "execution_count": 8,
   "metadata": {},
   "outputs": [
    {
     "name": "stderr",
     "output_type": "stream",
     "text": [
      "/Users/anqitu/.pyenv/versions/3.5.2/lib/python3.5/site-packages/sklearn/preprocessing/label.py:151: DeprecationWarning: The truth value of an empty array is ambiguous. Returning False, but in future this will result in an error. Use `array.size > 0` to check that an array is not empty.\n",
      "  if diff:\n"
     ]
    },
    {
     "data": {
      "text/plain": [
       "array(['versicolor'], dtype=object)"
      ]
     },
     "execution_count": 8,
     "metadata": {},
     "output_type": "execute_result"
    }
   ],
   "source": [
    "le.inverse_transform([1])"
   ]
  },
  {
   "cell_type": "code",
   "execution_count": 9,
   "metadata": {},
   "outputs": [
    {
     "data": {
      "text/plain": [
       "array(['setosa', 'versicolor', 'virginica'], dtype=object)"
      ]
     },
     "execution_count": 9,
     "metadata": {},
     "output_type": "execute_result"
    }
   ],
   "source": [
    "le.classes_"
   ]
  },
  {
   "cell_type": "code",
   "execution_count": 10,
   "metadata": {},
   "outputs": [],
   "source": [
    "X = df.drop('species',axis=1).values"
   ]
  },
  {
   "cell_type": "code",
   "execution_count": 11,
   "metadata": {},
   "outputs": [],
   "source": [
    "import numpy as np\n",
    "Y = np.eye(3)[y]\n",
    "# Y"
   ]
  },
  {
   "cell_type": "code",
   "execution_count": 12,
   "metadata": {},
   "outputs": [],
   "source": [
    "Y = np.squeeze(Y)\n",
    "# Y"
   ]
  },
  {
   "cell_type": "code",
   "execution_count": 13,
   "metadata": {},
   "outputs": [],
   "source": [
    "from sklearn.model_selection import train_test_split\n",
    "X_train,X_test,y_train,y_test = train_test_split(X,Y,test_size=0.3)"
   ]
  },
  {
   "cell_type": "code",
   "execution_count": 14,
   "metadata": {},
   "outputs": [
    {
     "name": "stderr",
     "output_type": "stream",
     "text": [
      "Using TensorFlow backend.\n"
     ]
    }
   ],
   "source": [
    "from keras.models import Sequential\n",
    "from keras.layers import Dense"
   ]
  },
  {
   "cell_type": "code",
   "execution_count": 15,
   "metadata": {},
   "outputs": [],
   "source": [
    "model = Sequential()\n",
    "model.add(Dense(50,input_dim=4,activation='relu'))\n",
    "model.add(Dense(100,activation='relu'))\n",
    "model.add(Dense(200,activation='relu'))\n",
    "model.add(Dense(3,activation='softmax'))"
   ]
  },
  {
   "cell_type": "code",
   "execution_count": 16,
   "metadata": {},
   "outputs": [],
   "source": [
    "model.compile(\n",
    "    loss='categorical_crossentropy',\n",
    "    optimizer='adam',\n",
    "    metrics=['accuracy'])"
   ]
  },
  {
   "cell_type": "code",
   "execution_count": 24,
   "metadata": {},
   "outputs": [
    {
     "name": "stdout",
     "output_type": "stream",
     "text": [
      "Train on 73 samples, validate on 32 samples\n",
      "Epoch 1/200\n",
      "73/73 [==============================] - 0s 188us/step - loss: 0.0013 - acc: 1.0000 - val_loss: 1.4934e-04 - val_acc: 1.0000\n",
      "Epoch 2/200\n",
      "73/73 [==============================] - 0s 175us/step - loss: 0.0010 - acc: 1.0000 - val_loss: 6.7458e-05 - val_acc: 1.0000\n",
      "Epoch 3/200\n",
      "73/73 [==============================] - 0s 204us/step - loss: 0.0018 - acc: 1.0000 - val_loss: 6.2724e-05 - val_acc: 1.0000\n",
      "Epoch 4/200\n",
      "73/73 [==============================] - 0s 222us/step - loss: 0.0014 - acc: 1.0000 - val_loss: 9.5888e-05 - val_acc: 1.0000\n",
      "Epoch 5/200\n",
      "73/73 [==============================] - 0s 145us/step - loss: 9.6177e-04 - acc: 1.0000 - val_loss: 2.0333e-04 - val_acc: 1.0000\n",
      "Epoch 6/200\n",
      "73/73 [==============================] - 0s 125us/step - loss: 0.0011 - acc: 1.0000 - val_loss: 2.5783e-04 - val_acc: 1.0000\n",
      "Epoch 7/200\n",
      "73/73 [==============================] - 0s 217us/step - loss: 0.0013 - acc: 1.0000 - val_loss: 1.8197e-04 - val_acc: 1.0000\n",
      "Epoch 8/200\n",
      "73/73 [==============================] - 0s 252us/step - loss: 9.9726e-04 - acc: 1.0000 - val_loss: 1.2021e-04 - val_acc: 1.0000\n",
      "Epoch 9/200\n",
      "73/73 [==============================] - 0s 128us/step - loss: 9.1598e-04 - acc: 1.0000 - val_loss: 8.3268e-05 - val_acc: 1.0000\n",
      "Epoch 10/200\n",
      "73/73 [==============================] - 0s 140us/step - loss: 9.8109e-04 - acc: 1.0000 - val_loss: 8.7815e-05 - val_acc: 1.0000\n",
      "Epoch 11/200\n",
      "73/73 [==============================] - 0s 140us/step - loss: 9.6009e-04 - acc: 1.0000 - val_loss: 1.0561e-04 - val_acc: 1.0000\n",
      "Epoch 12/200\n",
      "73/73 [==============================] - 0s 138us/step - loss: 8.9463e-04 - acc: 1.0000 - val_loss: 1.3293e-04 - val_acc: 1.0000\n",
      "Epoch 13/200\n",
      "73/73 [==============================] - 0s 136us/step - loss: 9.0803e-04 - acc: 1.0000 - val_loss: 1.5025e-04 - val_acc: 1.0000\n",
      "Epoch 14/200\n",
      "73/73 [==============================] - 0s 178us/step - loss: 9.9958e-04 - acc: 1.0000 - val_loss: 1.5223e-04 - val_acc: 1.0000\n",
      "Epoch 15/200\n",
      "73/73 [==============================] - 0s 169us/step - loss: 8.9455e-04 - acc: 1.0000 - val_loss: 9.9044e-05 - val_acc: 1.0000\n",
      "Epoch 16/200\n",
      "73/73 [==============================] - 0s 125us/step - loss: 9.5327e-04 - acc: 1.0000 - val_loss: 7.5632e-05 - val_acc: 1.0000\n",
      "Epoch 17/200\n",
      "73/73 [==============================] - 0s 131us/step - loss: 0.0010 - acc: 1.0000 - val_loss: 8.1206e-05 - val_acc: 1.0000\n",
      "Epoch 18/200\n",
      "73/73 [==============================] - 0s 148us/step - loss: 9.9126e-04 - acc: 1.0000 - val_loss: 9.1231e-05 - val_acc: 1.0000\n",
      "Epoch 19/200\n",
      "73/73 [==============================] - 0s 142us/step - loss: 9.0501e-04 - acc: 1.0000 - val_loss: 1.0809e-04 - val_acc: 1.0000\n",
      "Epoch 20/200\n",
      "73/73 [==============================] - 0s 127us/step - loss: 8.6573e-04 - acc: 1.0000 - val_loss: 1.5105e-04 - val_acc: 1.0000\n",
      "Epoch 21/200\n",
      "73/73 [==============================] - 0s 136us/step - loss: 9.1834e-04 - acc: 1.0000 - val_loss: 2.1687e-04 - val_acc: 1.0000\n",
      "Epoch 22/200\n",
      "73/73 [==============================] - 0s 280us/step - loss: 0.0011 - acc: 1.0000 - val_loss: 1.9913e-04 - val_acc: 1.0000\n",
      "Epoch 23/200\n",
      "73/73 [==============================] - 0s 191us/step - loss: 9.6864e-04 - acc: 1.0000 - val_loss: 1.2173e-04 - val_acc: 1.0000\n",
      "Epoch 24/200\n",
      "73/73 [==============================] - 0s 254us/step - loss: 8.1817e-04 - acc: 1.0000 - val_loss: 6.8672e-05 - val_acc: 1.0000\n",
      "Epoch 25/200\n",
      "73/73 [==============================] - 0s 188us/step - loss: 0.0010 - acc: 1.0000 - val_loss: 6.1676e-05 - val_acc: 1.0000\n",
      "Epoch 26/200\n",
      "73/73 [==============================] - 0s 245us/step - loss: 0.0011 - acc: 1.0000 - val_loss: 7.5697e-05 - val_acc: 1.0000\n",
      "Epoch 27/200\n",
      "73/73 [==============================] - 0s 230us/step - loss: 8.2943e-04 - acc: 1.0000 - val_loss: 1.5127e-04 - val_acc: 1.0000\n",
      "Epoch 28/200\n",
      "73/73 [==============================] - 0s 199us/step - loss: 9.3922e-04 - acc: 1.0000 - val_loss: 1.9975e-04 - val_acc: 1.0000\n",
      "Epoch 29/200\n",
      "73/73 [==============================] - 0s 143us/step - loss: 0.0010 - acc: 1.0000 - val_loss: 1.1604e-04 - val_acc: 1.0000\n",
      "Epoch 30/200\n",
      "73/73 [==============================] - 0s 162us/step - loss: 7.9364e-04 - acc: 1.0000 - val_loss: 8.1730e-05 - val_acc: 1.0000\n",
      "Epoch 31/200\n",
      "73/73 [==============================] - 0s 115us/step - loss: 9.3645e-04 - acc: 1.0000 - val_loss: 8.1362e-05 - val_acc: 1.0000\n",
      "Epoch 32/200\n",
      "73/73 [==============================] - 0s 136us/step - loss: 7.6656e-04 - acc: 1.0000 - val_loss: 1.6031e-04 - val_acc: 1.0000\n",
      "Epoch 33/200\n",
      "73/73 [==============================] - 0s 182us/step - loss: 0.0013 - acc: 1.0000 - val_loss: 2.7556e-04 - val_acc: 1.0000\n",
      "Epoch 34/200\n",
      "73/73 [==============================] - 0s 142us/step - loss: 0.0010 - acc: 1.0000 - val_loss: 1.1201e-04 - val_acc: 1.0000\n",
      "Epoch 35/200\n",
      "73/73 [==============================] - 0s 177us/step - loss: 7.9963e-04 - acc: 1.0000 - val_loss: 6.7711e-05 - val_acc: 1.0000\n",
      "Epoch 36/200\n",
      "73/73 [==============================] - 0s 137us/step - loss: 9.5786e-04 - acc: 1.0000 - val_loss: 7.8458e-05 - val_acc: 1.0000\n",
      "Epoch 37/200\n",
      "73/73 [==============================] - 0s 122us/step - loss: 7.7817e-04 - acc: 1.0000 - val_loss: 1.6810e-04 - val_acc: 1.0000\n",
      "Epoch 38/200\n",
      "73/73 [==============================] - 0s 190us/step - loss: 9.3360e-04 - acc: 1.0000 - val_loss: 2.2260e-04 - val_acc: 1.0000\n",
      "Epoch 39/200\n",
      "73/73 [==============================] - 0s 155us/step - loss: 0.0010 - acc: 1.0000 - val_loss: 1.7452e-04 - val_acc: 1.0000\n",
      "Epoch 40/200\n",
      "73/73 [==============================] - 0s 141us/step - loss: 8.7248e-04 - acc: 1.0000 - val_loss: 1.2398e-04 - val_acc: 1.0000\n",
      "Epoch 41/200\n",
      "73/73 [==============================] - 0s 168us/step - loss: 7.8585e-04 - acc: 1.0000 - val_loss: 8.9183e-05 - val_acc: 1.0000\n",
      "Epoch 42/200\n",
      "73/73 [==============================] - 0s 192us/step - loss: 7.8744e-04 - acc: 1.0000 - val_loss: 9.5404e-05 - val_acc: 1.0000\n",
      "Epoch 43/200\n",
      "73/73 [==============================] - 0s 185us/step - loss: 7.5475e-04 - acc: 1.0000 - val_loss: 1.3531e-04 - val_acc: 1.0000\n",
      "Epoch 44/200\n",
      "73/73 [==============================] - 0s 179us/step - loss: 7.9045e-04 - acc: 1.0000 - val_loss: 1.5209e-04 - val_acc: 1.0000\n",
      "Epoch 45/200\n",
      "73/73 [==============================] - 0s 265us/step - loss: 8.4882e-04 - acc: 1.0000 - val_loss: 1.3821e-04 - val_acc: 1.0000\n",
      "Epoch 46/200\n",
      "73/73 [==============================] - 0s 167us/step - loss: 7.7172e-04 - acc: 1.0000 - val_loss: 9.1065e-05 - val_acc: 1.0000\n",
      "Epoch 47/200\n",
      "73/73 [==============================] - 0s 187us/step - loss: 8.1982e-04 - acc: 1.0000 - val_loss: 7.2331e-05 - val_acc: 1.0000\n",
      "Epoch 48/200\n",
      "73/73 [==============================] - 0s 135us/step - loss: 8.0089e-04 - acc: 1.0000 - val_loss: 8.2750e-05 - val_acc: 1.0000\n",
      "Epoch 49/200\n",
      "73/73 [==============================] - 0s 172us/step - loss: 7.5070e-04 - acc: 1.0000 - val_loss: 1.1312e-04 - val_acc: 1.0000\n",
      "Epoch 50/200\n",
      "73/73 [==============================] - 0s 186us/step - loss: 7.5750e-04 - acc: 1.0000 - val_loss: 2.3208e-04 - val_acc: 1.0000\n",
      "Epoch 51/200\n",
      "73/73 [==============================] - 0s 136us/step - loss: 0.0010 - acc: 1.0000 - val_loss: 2.2868e-04 - val_acc: 1.0000\n",
      "Epoch 52/200\n",
      "73/73 [==============================] - 0s 136us/step - loss: 9.8077e-04 - acc: 1.0000 - val_loss: 1.4175e-04 - val_acc: 1.0000\n",
      "Epoch 53/200\n",
      "73/73 [==============================] - 0s 129us/step - loss: 7.0548e-04 - acc: 1.0000 - val_loss: 8.4351e-05 - val_acc: 1.0000\n",
      "Epoch 54/200\n",
      "73/73 [==============================] - 0s 182us/step - loss: 8.8084e-04 - acc: 1.0000 - val_loss: 5.2932e-05 - val_acc: 1.0000\n",
      "Epoch 55/200\n",
      "73/73 [==============================] - 0s 181us/step - loss: 0.0010 - acc: 1.0000 - val_loss: 6.2976e-05 - val_acc: 1.0000\n",
      "Epoch 56/200\n",
      "73/73 [==============================] - 0s 167us/step - loss: 7.2184e-04 - acc: 1.0000 - val_loss: 1.8478e-04 - val_acc: 1.0000\n",
      "Epoch 57/200\n",
      "73/73 [==============================] - 0s 129us/step - loss: 9.6875e-04 - acc: 1.0000 - val_loss: 3.1851e-04 - val_acc: 1.0000\n",
      "Epoch 58/200\n",
      "73/73 [==============================] - 0s 149us/step - loss: 0.0013 - acc: 1.0000 - val_loss: 2.0102e-04 - val_acc: 1.0000\n"
     ]
    },
    {
     "name": "stdout",
     "output_type": "stream",
     "text": [
      "Epoch 59/200\n",
      "73/73 [==============================] - 0s 181us/step - loss: 8.3361e-04 - acc: 1.0000 - val_loss: 1.0356e-04 - val_acc: 1.0000\n",
      "Epoch 60/200\n",
      "73/73 [==============================] - 0s 136us/step - loss: 6.5541e-04 - acc: 1.0000 - val_loss: 6.3355e-05 - val_acc: 1.0000\n",
      "Epoch 61/200\n",
      "73/73 [==============================] - 0s 199us/step - loss: 8.0110e-04 - acc: 1.0000 - val_loss: 5.7708e-05 - val_acc: 1.0000\n",
      "Epoch 62/200\n",
      "73/73 [==============================] - 0s 164us/step - loss: 8.0648e-04 - acc: 1.0000 - val_loss: 7.5876e-05 - val_acc: 1.0000\n",
      "Epoch 63/200\n",
      "73/73 [==============================] - 0s 176us/step - loss: 7.5268e-04 - acc: 1.0000 - val_loss: 1.2174e-04 - val_acc: 1.0000\n",
      "Epoch 64/200\n",
      "73/73 [==============================] - 0s 120us/step - loss: 7.1080e-04 - acc: 1.0000 - val_loss: 1.3834e-04 - val_acc: 1.0000\n",
      "Epoch 65/200\n",
      "73/73 [==============================] - 0s 169us/step - loss: 7.3874e-04 - acc: 1.0000 - val_loss: 1.0894e-04 - val_acc: 1.0000\n",
      "Epoch 66/200\n",
      "73/73 [==============================] - 0s 162us/step - loss: 7.3672e-04 - acc: 1.0000 - val_loss: 6.7083e-05 - val_acc: 1.0000\n",
      "Epoch 67/200\n",
      "73/73 [==============================] - 0s 135us/step - loss: 7.7304e-04 - acc: 1.0000 - val_loss: 6.4897e-05 - val_acc: 1.0000\n",
      "Epoch 68/200\n",
      "73/73 [==============================] - 0s 118us/step - loss: 7.1041e-04 - acc: 1.0000 - val_loss: 8.8763e-05 - val_acc: 1.0000\n",
      "Epoch 69/200\n",
      "73/73 [==============================] - 0s 152us/step - loss: 6.9228e-04 - acc: 1.0000 - val_loss: 1.0981e-04 - val_acc: 1.0000\n",
      "Epoch 70/200\n",
      "73/73 [==============================] - 0s 151us/step - loss: 6.7705e-04 - acc: 1.0000 - val_loss: 9.2420e-05 - val_acc: 1.0000\n",
      "Epoch 71/200\n",
      "73/73 [==============================] - 0s 151us/step - loss: 6.8570e-04 - acc: 1.0000 - val_loss: 7.5702e-05 - val_acc: 1.0000\n",
      "Epoch 72/200\n",
      "73/73 [==============================] - 0s 126us/step - loss: 6.6476e-04 - acc: 1.0000 - val_loss: 8.4363e-05 - val_acc: 1.0000\n",
      "Epoch 73/200\n",
      "73/73 [==============================] - 0s 162us/step - loss: 6.8905e-04 - acc: 1.0000 - val_loss: 9.7429e-05 - val_acc: 1.0000\n",
      "Epoch 74/200\n",
      "73/73 [==============================] - 0s 133us/step - loss: 6.5986e-04 - acc: 1.0000 - val_loss: 8.8229e-05 - val_acc: 1.0000\n",
      "Epoch 75/200\n",
      "73/73 [==============================] - 0s 148us/step - loss: 6.4367e-04 - acc: 1.0000 - val_loss: 7.1310e-05 - val_acc: 1.0000\n",
      "Epoch 76/200\n",
      "73/73 [==============================] - 0s 161us/step - loss: 6.8425e-04 - acc: 1.0000 - val_loss: 6.4609e-05 - val_acc: 1.0000\n",
      "Epoch 77/200\n",
      "73/73 [==============================] - 0s 163us/step - loss: 6.8040e-04 - acc: 1.0000 - val_loss: 7.8209e-05 - val_acc: 1.0000\n",
      "Epoch 78/200\n",
      "73/73 [==============================] - 0s 137us/step - loss: 7.0571e-04 - acc: 1.0000 - val_loss: 1.4291e-04 - val_acc: 1.0000\n",
      "Epoch 79/200\n",
      "73/73 [==============================] - 0s 105us/step - loss: 8.0679e-04 - acc: 1.0000 - val_loss: 1.4120e-04 - val_acc: 1.0000\n",
      "Epoch 80/200\n",
      "73/73 [==============================] - 0s 151us/step - loss: 6.9746e-04 - acc: 1.0000 - val_loss: 7.2467e-05 - val_acc: 1.0000\n",
      "Epoch 81/200\n",
      "73/73 [==============================] - 0s 139us/step - loss: 6.6624e-04 - acc: 1.0000 - val_loss: 4.8159e-05 - val_acc: 1.0000\n",
      "Epoch 82/200\n",
      "73/73 [==============================] - 0s 95us/step - loss: 8.8511e-04 - acc: 1.0000 - val_loss: 4.7855e-05 - val_acc: 1.0000\n",
      "Epoch 83/200\n",
      "73/73 [==============================] - 0s 172us/step - loss: 7.5065e-04 - acc: 1.0000 - val_loss: 6.7987e-05 - val_acc: 1.0000\n",
      "Epoch 84/200\n",
      "73/73 [==============================] - 0s 163us/step - loss: 6.5467e-04 - acc: 1.0000 - val_loss: 9.6939e-05 - val_acc: 1.0000\n",
      "Epoch 85/200\n",
      "73/73 [==============================] - 0s 121us/step - loss: 6.2816e-04 - acc: 1.0000 - val_loss: 1.0954e-04 - val_acc: 1.0000\n",
      "Epoch 86/200\n",
      "73/73 [==============================] - 0s 158us/step - loss: 6.4640e-04 - acc: 1.0000 - val_loss: 9.3324e-05 - val_acc: 1.0000\n",
      "Epoch 87/200\n",
      "73/73 [==============================] - 0s 168us/step - loss: 5.9657e-04 - acc: 1.0000 - val_loss: 6.5749e-05 - val_acc: 1.0000\n",
      "Epoch 88/200\n",
      "73/73 [==============================] - 0s 151us/step - loss: 6.9277e-04 - acc: 1.0000 - val_loss: 6.1670e-05 - val_acc: 1.0000\n",
      "Epoch 89/200\n",
      "73/73 [==============================] - 0s 117us/step - loss: 6.4325e-04 - acc: 1.0000 - val_loss: 1.0811e-04 - val_acc: 1.0000\n",
      "Epoch 90/200\n",
      "73/73 [==============================] - 0s 159us/step - loss: 7.0029e-04 - acc: 1.0000 - val_loss: 1.2366e-04 - val_acc: 1.0000\n",
      "Epoch 91/200\n",
      "73/73 [==============================] - 0s 159us/step - loss: 7.0854e-04 - acc: 1.0000 - val_loss: 7.5395e-05 - val_acc: 1.0000\n",
      "Epoch 92/200\n",
      "73/73 [==============================] - 0s 176us/step - loss: 5.9714e-04 - acc: 1.0000 - val_loss: 6.7091e-05 - val_acc: 1.0000\n",
      "Epoch 93/200\n",
      "73/73 [==============================] - 0s 187us/step - loss: 5.9730e-04 - acc: 1.0000 - val_loss: 6.1493e-05 - val_acc: 1.0000\n",
      "Epoch 94/200\n",
      "73/73 [==============================] - 0s 162us/step - loss: 6.1109e-04 - acc: 1.0000 - val_loss: 6.2618e-05 - val_acc: 1.0000\n",
      "Epoch 95/200\n",
      "73/73 [==============================] - 0s 144us/step - loss: 6.1036e-04 - acc: 1.0000 - val_loss: 7.3239e-05 - val_acc: 1.0000\n",
      "Epoch 96/200\n",
      "73/73 [==============================] - 0s 116us/step - loss: 5.8202e-04 - acc: 1.0000 - val_loss: 8.0018e-05 - val_acc: 1.0000\n",
      "Epoch 97/200\n",
      "73/73 [==============================] - 0s 199us/step - loss: 5.8546e-04 - acc: 1.0000 - val_loss: 8.5025e-05 - val_acc: 1.0000\n",
      "Epoch 98/200\n",
      "73/73 [==============================] - 0s 153us/step - loss: 5.9492e-04 - acc: 1.0000 - val_loss: 8.1410e-05 - val_acc: 1.0000\n",
      "Epoch 99/200\n",
      "73/73 [==============================] - 0s 134us/step - loss: 5.9113e-04 - acc: 1.0000 - val_loss: 8.3324e-05 - val_acc: 1.0000\n",
      "Epoch 100/200\n",
      "73/73 [==============================] - 0s 118us/step - loss: 5.6473e-04 - acc: 1.0000 - val_loss: 6.6363e-05 - val_acc: 1.0000\n",
      "Epoch 101/200\n",
      "73/73 [==============================] - 0s 154us/step - loss: 5.9279e-04 - acc: 1.0000 - val_loss: 5.6577e-05 - val_acc: 1.0000\n",
      "Epoch 102/200\n",
      "73/73 [==============================] - 0s 190us/step - loss: 6.2177e-04 - acc: 1.0000 - val_loss: 5.6413e-05 - val_acc: 1.0000\n",
      "Epoch 103/200\n",
      "73/73 [==============================] - 0s 125us/step - loss: 6.0525e-04 - acc: 1.0000 - val_loss: 6.2075e-05 - val_acc: 1.0000\n",
      "Epoch 104/200\n",
      "73/73 [==============================] - 0s 136us/step - loss: 5.7628e-04 - acc: 1.0000 - val_loss: 7.2362e-05 - val_acc: 1.0000\n",
      "Epoch 105/200\n",
      "73/73 [==============================] - 0s 186us/step - loss: 5.7006e-04 - acc: 1.0000 - val_loss: 8.8953e-05 - val_acc: 1.0000\n",
      "Epoch 106/200\n",
      "73/73 [==============================] - 0s 148us/step - loss: 5.7638e-04 - acc: 1.0000 - val_loss: 9.2074e-05 - val_acc: 1.0000\n",
      "Epoch 107/200\n",
      "73/73 [==============================] - 0s 119us/step - loss: 5.7013e-04 - acc: 1.0000 - val_loss: 8.8918e-05 - val_acc: 1.0000\n",
      "Epoch 108/200\n",
      "73/73 [==============================] - 0s 149us/step - loss: 5.6660e-04 - acc: 1.0000 - val_loss: 7.6452e-05 - val_acc: 1.0000\n",
      "Epoch 109/200\n",
      "73/73 [==============================] - 0s 181us/step - loss: 5.5394e-04 - acc: 1.0000 - val_loss: 6.5162e-05 - val_acc: 1.0000\n",
      "Epoch 110/200\n",
      "73/73 [==============================] - 0s 131us/step - loss: 5.5202e-04 - acc: 1.0000 - val_loss: 5.5089e-05 - val_acc: 1.0000\n",
      "Epoch 111/200\n",
      "73/73 [==============================] - 0s 146us/step - loss: 5.7818e-04 - acc: 1.0000 - val_loss: 5.3639e-05 - val_acc: 1.0000\n",
      "Epoch 112/200\n",
      "73/73 [==============================] - 0s 167us/step - loss: 5.8209e-04 - acc: 1.0000 - val_loss: 5.8307e-05 - val_acc: 1.0000\n",
      "Epoch 113/200\n",
      "73/73 [==============================] - 0s 184us/step - loss: 5.5774e-04 - acc: 1.0000 - val_loss: 6.5941e-05 - val_acc: 1.0000\n",
      "Epoch 114/200\n",
      "73/73 [==============================] - 0s 147us/step - loss: 5.4349e-04 - acc: 1.0000 - val_loss: 6.4802e-05 - val_acc: 1.0000\n",
      "Epoch 115/200\n",
      "73/73 [==============================] - 0s 191us/step - loss: 5.4484e-04 - acc: 1.0000 - val_loss: 6.8387e-05 - val_acc: 1.0000\n",
      "Epoch 116/200\n",
      "73/73 [==============================] - 0s 143us/step - loss: 5.3090e-04 - acc: 1.0000 - val_loss: 8.4042e-05 - val_acc: 1.0000\n",
      "Epoch 117/200\n",
      "73/73 [==============================] - 0s 172us/step - loss: 5.4351e-04 - acc: 1.0000 - val_loss: 8.8682e-05 - val_acc: 1.0000\n",
      "Epoch 118/200\n",
      "73/73 [==============================] - 0s 256us/step - loss: 5.4147e-04 - acc: 1.0000 - val_loss: 7.9876e-05 - val_acc: 1.0000\n",
      "Epoch 119/200\n",
      "73/73 [==============================] - 0s 162us/step - loss: 5.3402e-04 - acc: 1.0000 - val_loss: 6.0705e-05 - val_acc: 1.0000\n",
      "Epoch 120/200\n",
      "73/73 [==============================] - 0s 127us/step - loss: 6.2385e-04 - acc: 1.0000 - val_loss: 4.8666e-05 - val_acc: 1.0000\n",
      "Epoch 121/200\n",
      "73/73 [==============================] - 0s 205us/step - loss: 5.4629e-04 - acc: 1.0000 - val_loss: 7.5197e-05 - val_acc: 1.0000\n",
      "Epoch 122/200\n",
      "73/73 [==============================] - 0s 189us/step - loss: 5.3483e-04 - acc: 1.0000 - val_loss: 1.1412e-04 - val_acc: 1.0000\n",
      "Epoch 123/200\n",
      "73/73 [==============================] - 0s 171us/step - loss: 5.9912e-04 - acc: 1.0000 - val_loss: 1.2189e-04 - val_acc: 1.0000\n",
      "Epoch 124/200\n",
      "73/73 [==============================] - 0s 121us/step - loss: 6.0196e-04 - acc: 1.0000 - val_loss: 9.8232e-05 - val_acc: 1.0000\n",
      "Epoch 125/200\n",
      "73/73 [==============================] - 0s 140us/step - loss: 5.7368e-04 - acc: 1.0000 - val_loss: 6.1581e-05 - val_acc: 1.0000\n",
      "Epoch 126/200\n",
      "73/73 [==============================] - 0s 165us/step - loss: 5.1866e-04 - acc: 1.0000 - val_loss: 4.9611e-05 - val_acc: 1.0000\n",
      "Epoch 127/200\n",
      "73/73 [==============================] - 0s 203us/step - loss: 5.9712e-04 - acc: 1.0000 - val_loss: 4.3722e-05 - val_acc: 1.0000\n",
      "Epoch 128/200\n",
      "73/73 [==============================] - 0s 149us/step - loss: 6.0133e-04 - acc: 1.0000 - val_loss: 5.2499e-05 - val_acc: 1.0000\n",
      "Epoch 129/200\n",
      "73/73 [==============================] - 0s 161us/step - loss: 5.2189e-04 - acc: 1.0000 - val_loss: 7.6518e-05 - val_acc: 1.0000\n",
      "Epoch 130/200\n",
      "73/73 [==============================] - 0s 123us/step - loss: 5.7747e-04 - acc: 1.0000 - val_loss: 1.6856e-04 - val_acc: 1.0000\n",
      "Epoch 131/200\n",
      "73/73 [==============================] - 0s 154us/step - loss: 7.0654e-04 - acc: 1.0000 - val_loss: 1.6817e-04 - val_acc: 1.0000\n",
      "Epoch 132/200\n",
      "73/73 [==============================] - 0s 151us/step - loss: 6.9033e-04 - acc: 1.0000 - val_loss: 1.0871e-04 - val_acc: 1.0000\n",
      "Epoch 133/200\n",
      "73/73 [==============================] - 0s 146us/step - loss: 4.6133e-04 - acc: 1.0000 - val_loss: 4.9754e-05 - val_acc: 1.0000\n",
      "Epoch 134/200\n",
      "73/73 [==============================] - 0s 127us/step - loss: 6.8756e-04 - acc: 1.0000 - val_loss: 3.8987e-05 - val_acc: 1.0000\n",
      "Epoch 135/200\n",
      "73/73 [==============================] - 0s 152us/step - loss: 6.2019e-04 - acc: 1.0000 - val_loss: 8.4430e-05 - val_acc: 1.0000\n",
      "Epoch 136/200\n",
      "73/73 [==============================] - 0s 145us/step - loss: 5.6651e-04 - acc: 1.0000 - val_loss: 1.2570e-04 - val_acc: 1.0000\n",
      "Epoch 137/200\n",
      "73/73 [==============================] - 0s 187us/step - loss: 5.8085e-04 - acc: 1.0000 - val_loss: 8.8595e-05 - val_acc: 1.0000\n",
      "Epoch 138/200\n",
      "73/73 [==============================] - 0s 127us/step - loss: 5.1008e-04 - acc: 1.0000 - val_loss: 6.1367e-05 - val_acc: 1.0000\n",
      "Epoch 139/200\n",
      "73/73 [==============================] - 0s 126us/step - loss: 5.2452e-04 - acc: 1.0000 - val_loss: 5.5743e-05 - val_acc: 1.0000\n",
      "Epoch 140/200\n",
      "73/73 [==============================] - 0s 172us/step - loss: 4.9744e-04 - acc: 1.0000 - val_loss: 8.4838e-05 - val_acc: 1.0000\n",
      "Epoch 141/200\n",
      "73/73 [==============================] - 0s 141us/step - loss: 4.9950e-04 - acc: 1.0000 - val_loss: 1.0070e-04 - val_acc: 1.0000\n",
      "Epoch 142/200\n",
      "73/73 [==============================] - 0s 141us/step - loss: 5.2110e-04 - acc: 1.0000 - val_loss: 9.3872e-05 - val_acc: 1.0000\n",
      "Epoch 143/200\n",
      "73/73 [==============================] - 0s 159us/step - loss: 5.0453e-04 - acc: 1.0000 - val_loss: 8.1542e-05 - val_acc: 1.0000\n",
      "Epoch 144/200\n",
      "73/73 [==============================] - 0s 158us/step - loss: 4.8567e-04 - acc: 1.0000 - val_loss: 7.5337e-05 - val_acc: 1.0000\n",
      "Epoch 145/200\n",
      "73/73 [==============================] - 0s 141us/step - loss: 4.8790e-04 - acc: 1.0000 - val_loss: 7.6853e-05 - val_acc: 1.0000\n",
      "Epoch 146/200\n",
      "73/73 [==============================] - 0s 130us/step - loss: 4.8948e-04 - acc: 1.0000 - val_loss: 6.6262e-05 - val_acc: 1.0000\n",
      "Epoch 147/200\n",
      "73/73 [==============================] - 0s 176us/step - loss: 4.9014e-04 - acc: 1.0000 - val_loss: 6.7072e-05 - val_acc: 1.0000\n",
      "Epoch 148/200\n",
      "73/73 [==============================] - 0s 167us/step - loss: 4.5182e-04 - acc: 1.0000 - val_loss: 1.0006e-04 - val_acc: 1.0000\n",
      "Epoch 149/200\n",
      "73/73 [==============================] - 0s 132us/step - loss: 5.6959e-04 - acc: 1.0000 - val_loss: 1.3913e-04 - val_acc: 1.0000\n",
      "Epoch 150/200\n",
      "73/73 [==============================] - 0s 156us/step - loss: 6.0856e-04 - acc: 1.0000 - val_loss: 1.0598e-04 - val_acc: 1.0000\n",
      "Epoch 151/200\n",
      "73/73 [==============================] - 0s 119us/step - loss: 5.3809e-04 - acc: 1.0000 - val_loss: 5.6776e-05 - val_acc: 1.0000\n",
      "Epoch 152/200\n",
      "73/73 [==============================] - 0s 159us/step - loss: 4.6009e-04 - acc: 1.0000 - val_loss: 4.9751e-05 - val_acc: 1.0000\n",
      "Epoch 153/200\n",
      "73/73 [==============================] - 0s 173us/step - loss: 4.7054e-04 - acc: 1.0000 - val_loss: 4.6767e-05 - val_acc: 1.0000\n",
      "Epoch 154/200\n",
      "73/73 [==============================] - 0s 274us/step - loss: 4.7810e-04 - acc: 1.0000 - val_loss: 5.0367e-05 - val_acc: 1.0000\n",
      "Epoch 155/200\n",
      "73/73 [==============================] - 0s 176us/step - loss: 4.6441e-04 - acc: 1.0000 - val_loss: 7.2696e-05 - val_acc: 1.0000\n",
      "Epoch 156/200\n",
      "73/73 [==============================] - 0s 212us/step - loss: 4.8412e-04 - acc: 1.0000 - val_loss: 8.6115e-05 - val_acc: 1.0000\n",
      "Epoch 157/200\n",
      "73/73 [==============================] - 0s 119us/step - loss: 4.7276e-04 - acc: 1.0000 - val_loss: 6.7729e-05 - val_acc: 1.0000\n",
      "Epoch 158/200\n",
      "73/73 [==============================] - 0s 163us/step - loss: 4.3991e-04 - acc: 1.0000 - val_loss: 4.6669e-05 - val_acc: 1.0000\n",
      "Epoch 159/200\n",
      "73/73 [==============================] - 0s 138us/step - loss: 4.6572e-04 - acc: 1.0000 - val_loss: 4.1577e-05 - val_acc: 1.0000\n",
      "Epoch 160/200\n",
      "73/73 [==============================] - 0s 195us/step - loss: 4.7909e-04 - acc: 1.0000 - val_loss: 5.0162e-05 - val_acc: 1.0000\n",
      "Epoch 161/200\n",
      "73/73 [==============================] - 0s 142us/step - loss: 4.6577e-04 - acc: 1.0000 - val_loss: 5.8824e-05 - val_acc: 1.0000\n",
      "Epoch 162/200\n",
      "73/73 [==============================] - 0s 132us/step - loss: 4.3767e-04 - acc: 1.0000 - val_loss: 5.4199e-05 - val_acc: 1.0000\n",
      "Epoch 163/200\n",
      "73/73 [==============================] - 0s 109us/step - loss: 4.3582e-04 - acc: 1.0000 - val_loss: 4.8823e-05 - val_acc: 1.0000\n",
      "Epoch 164/200\n",
      "73/73 [==============================] - 0s 138us/step - loss: 4.4418e-04 - acc: 1.0000 - val_loss: 4.5456e-05 - val_acc: 1.0000\n",
      "Epoch 165/200\n",
      "73/73 [==============================] - 0s 174us/step - loss: 4.5596e-04 - acc: 1.0000 - val_loss: 4.5404e-05 - val_acc: 1.0000\n",
      "Epoch 166/200\n",
      "73/73 [==============================] - 0s 168us/step - loss: 4.6289e-04 - acc: 1.0000 - val_loss: 5.0345e-05 - val_acc: 1.0000\n",
      "Epoch 167/200\n",
      "73/73 [==============================] - 0s 129us/step - loss: 4.2090e-04 - acc: 1.0000 - val_loss: 8.3398e-05 - val_acc: 1.0000\n",
      "Epoch 168/200\n",
      "73/73 [==============================] - 0s 150us/step - loss: 4.5810e-04 - acc: 1.0000 - val_loss: 1.0576e-04 - val_acc: 1.0000\n",
      "Epoch 169/200\n",
      "73/73 [==============================] - 0s 152us/step - loss: 5.0561e-04 - acc: 1.0000 - val_loss: 9.7624e-05 - val_acc: 1.0000\n",
      "Epoch 170/200\n",
      "73/73 [==============================] - 0s 146us/step - loss: 4.6715e-04 - acc: 1.0000 - val_loss: 7.0673e-05 - val_acc: 1.0000\n",
      "Epoch 171/200\n",
      "73/73 [==============================] - 0s 149us/step - loss: 4.2269e-04 - acc: 1.0000 - val_loss: 5.2623e-05 - val_acc: 1.0000\n",
      "Epoch 172/200\n",
      "73/73 [==============================] - 0s 145us/step - loss: 4.2199e-04 - acc: 1.0000 - val_loss: 4.5302e-05 - val_acc: 1.0000\n",
      "Epoch 173/200\n"
     ]
    },
    {
     "name": "stdout",
     "output_type": "stream",
     "text": [
      "73/73 [==============================] - 0s 189us/step - loss: 4.3566e-04 - acc: 1.0000 - val_loss: 4.6522e-05 - val_acc: 1.0000\n",
      "Epoch 174/200\n",
      "73/73 [==============================] - 0s 198us/step - loss: 4.4460e-04 - acc: 1.0000 - val_loss: 5.6688e-05 - val_acc: 1.0000\n",
      "Epoch 175/200\n",
      "73/73 [==============================] - 0s 152us/step - loss: 4.3154e-04 - acc: 1.0000 - val_loss: 6.4749e-05 - val_acc: 1.0000\n",
      "Epoch 176/200\n",
      "73/73 [==============================] - 0s 145us/step - loss: 4.2147e-04 - acc: 1.0000 - val_loss: 6.9191e-05 - val_acc: 1.0000\n",
      "Epoch 177/200\n",
      "73/73 [==============================] - 0s 150us/step - loss: 4.1660e-04 - acc: 1.0000 - val_loss: 7.9924e-05 - val_acc: 1.0000\n",
      "Epoch 178/200\n",
      "73/73 [==============================] - 0s 138us/step - loss: 4.5048e-04 - acc: 1.0000 - val_loss: 8.6256e-05 - val_acc: 1.0000\n",
      "Epoch 179/200\n",
      "73/73 [==============================] - 0s 179us/step - loss: 4.4557e-04 - acc: 1.0000 - val_loss: 6.6982e-05 - val_acc: 1.0000\n",
      "Epoch 180/200\n",
      "73/73 [==============================] - 0s 170us/step - loss: 4.1004e-04 - acc: 1.0000 - val_loss: 5.4629e-05 - val_acc: 1.0000\n",
      "Epoch 181/200\n",
      "73/73 [==============================] - 0s 121us/step - loss: 4.2161e-04 - acc: 1.0000 - val_loss: 4.5857e-05 - val_acc: 1.0000\n",
      "Epoch 182/200\n",
      "73/73 [==============================] - 0s 128us/step - loss: 4.1495e-04 - acc: 1.0000 - val_loss: 4.4139e-05 - val_acc: 1.0000\n",
      "Epoch 183/200\n",
      "73/73 [==============================] - 0s 141us/step - loss: 4.1517e-04 - acc: 1.0000 - val_loss: 4.2893e-05 - val_acc: 1.0000\n",
      "Epoch 184/200\n",
      "73/73 [==============================] - 0s 129us/step - loss: 4.1512e-04 - acc: 1.0000 - val_loss: 4.8160e-05 - val_acc: 1.0000\n",
      "Epoch 185/200\n",
      "73/73 [==============================] - 0s 119us/step - loss: 3.9776e-04 - acc: 1.0000 - val_loss: 5.9283e-05 - val_acc: 1.0000\n",
      "Epoch 186/200\n",
      "73/73 [==============================] - 0s 142us/step - loss: 3.9890e-04 - acc: 1.0000 - val_loss: 6.8164e-05 - val_acc: 1.0000\n",
      "Epoch 187/200\n",
      "73/73 [==============================] - 0s 153us/step - loss: 4.1915e-04 - acc: 1.0000 - val_loss: 6.2418e-05 - val_acc: 1.0000\n",
      "Epoch 188/200\n",
      "73/73 [==============================] - 0s 131us/step - loss: 4.3240e-04 - acc: 1.0000 - val_loss: 3.8813e-05 - val_acc: 1.0000\n",
      "Epoch 189/200\n",
      "73/73 [==============================] - 0s 144us/step - loss: 4.2088e-04 - acc: 1.0000 - val_loss: 3.5267e-05 - val_acc: 1.0000\n",
      "Epoch 190/200\n",
      "73/73 [==============================] - 0s 179us/step - loss: 4.4580e-04 - acc: 1.0000 - val_loss: 3.7778e-05 - val_acc: 1.0000\n",
      "Epoch 191/200\n",
      "73/73 [==============================] - 0s 152us/step - loss: 4.1355e-04 - acc: 1.0000 - val_loss: 4.9610e-05 - val_acc: 1.0000\n",
      "Epoch 192/200\n",
      "73/73 [==============================] - 0s 150us/step - loss: 4.0030e-04 - acc: 1.0000 - val_loss: 6.1785e-05 - val_acc: 1.0000\n",
      "Epoch 193/200\n",
      "73/73 [==============================] - 0s 129us/step - loss: 3.9979e-04 - acc: 1.0000 - val_loss: 6.3653e-05 - val_acc: 1.0000\n",
      "Epoch 194/200\n",
      "73/73 [==============================] - 0s 170us/step - loss: 3.9061e-04 - acc: 1.0000 - val_loss: 7.6566e-05 - val_acc: 1.0000\n",
      "Epoch 195/200\n",
      "73/73 [==============================] - 0s 231us/step - loss: 4.1653e-04 - acc: 1.0000 - val_loss: 7.0259e-05 - val_acc: 1.0000\n",
      "Epoch 196/200\n",
      "73/73 [==============================] - 0s 192us/step - loss: 3.8331e-04 - acc: 1.0000 - val_loss: 4.9308e-05 - val_acc: 1.0000\n",
      "Epoch 197/200\n",
      "73/73 [==============================] - 0s 143us/step - loss: 3.8521e-04 - acc: 1.0000 - val_loss: 3.7044e-05 - val_acc: 1.0000\n",
      "Epoch 198/200\n",
      "73/73 [==============================] - 0s 164us/step - loss: 4.3104e-04 - acc: 1.0000 - val_loss: 4.0458e-05 - val_acc: 1.0000\n",
      "Epoch 199/200\n",
      "73/73 [==============================] - 0s 154us/step - loss: 3.6659e-04 - acc: 1.0000 - val_loss: 7.2616e-05 - val_acc: 1.0000\n",
      "Epoch 200/200\n",
      "73/73 [==============================] - 0s 189us/step - loss: 4.1606e-04 - acc: 1.0000 - val_loss: 1.0784e-04 - val_acc: 1.0000\n"
     ]
    }
   ],
   "source": [
    "history = model.fit(X_train,y_train,epochs=200, validation_split = 0.3)"
   ]
  },
  {
   "cell_type": "code",
   "execution_count": 25,
   "metadata": {},
   "outputs": [
    {
     "name": "stdout",
     "output_type": "stream",
     "text": [
      "45/45 [==============================] - 0s 132us/step\n"
     ]
    }
   ],
   "source": [
    "loss,accuracy = model.evaluate(X_test,y_test)"
   ]
  },
  {
   "cell_type": "code",
   "execution_count": 26,
   "metadata": {},
   "outputs": [
    {
     "name": "stdout",
     "output_type": "stream",
     "text": [
      "0.9333333359824286\n"
     ]
    }
   ],
   "source": [
    "print(accuracy)"
   ]
  },
  {
   "cell_type": "code",
   "execution_count": 27,
   "metadata": {},
   "outputs": [
    {
     "data": {
      "text/plain": [
       "array([[1.0000000e+00, 2.5418874e-08, 3.6343044e-28]], dtype=float32)"
      ]
     },
     "execution_count": 27,
     "metadata": {},
     "output_type": "execute_result"
    }
   ],
   "source": [
    "model.predict(np.array([[5.1,3.5,1.4,0.2]]))"
   ]
  },
  {
   "cell_type": "code",
   "execution_count": 31,
   "metadata": {},
   "outputs": [],
   "source": [
    "import matplotlib.pyplot as plt\n",
    "\n",
    "acc = history.history['acc']\n",
    "val_acc = history.history['val_acc']\n",
    "loss = history.history['loss']\n",
    "val_loss = history.history['val_loss']\n",
    "epochs = range(1,len(acc)+1)"
   ]
  },
  {
   "cell_type": "code",
   "execution_count": 30,
   "metadata": {},
   "outputs": [
    {
     "data": {
      "image/png": "[encoded data removed]",
      "text/plain": [
       "<Figure size 432x288 with 1 Axes>"
      ]
     },
     "metadata": {
      "needs_background": "light"
     },
     "output_type": "display_data"
    },
    {
     "data": {
      "image/png": "[encoded data removed]",
      "text/plain": [
       "<Figure size 432x288 with 1 Axes>"
      ]
     },
     "metadata": {
      "needs_background": "light"
     },
     "output_type": "display_data"
    }
   ],
   "source": [
    "plt.plot(epochs, acc,'b',label='Train Accuracy')\n",
    "plt.plot(epochs, val_acc,'r',label='Test Accuracy')\n",
    "plt.legend()\n",
    "plt.figure()\n",
    "plt.plot(epochs, loss,'b',label='Train Loss')\n",
    "plt.plot(epochs, val_loss,'r',label='Test Loss')\n",
    "plt.legend()\n",
    "plt.show()"
   ]
  },
  {
   "cell_type": "code",
   "execution_count": null,
   "metadata": {},
   "outputs": [],
   "source": []
  },
  {
   "cell_type": "code",
   "execution_count": 33,
   "metadata": {},
   "outputs": [],
   "source": [
    "import keras\n",
    "from keras.datasets import mnist\n",
    "from keras.models import Sequential\n",
    "from keras.layers import Dense"
   ]
  },
  {
   "cell_type": "code",
   "execution_count": 34,
   "metadata": {},
   "outputs": [],
   "source": [
    "# Step 1:Load the Data\n",
    "(X_train, y_train), (X_test, y_test) = mnist.load_data()\n",
    "X_train = X_train.reshape(-1, 784)\n",
    "X_test = X_test.reshape(-1, 784)\n",
    "X_train = X_train.astype('float32')\n",
    "X_test = X_test.astype('float32')\n",
    "X_train /= 255\n",
    "X_test /= 255\n",
    "y_train = keras.utils.to_categorical(y_train, 10)\n",
    "y_test = keras.utils.to_categorical(y_test,10)"
   ]
  },
  {
   "cell_type": "code",
   "execution_count": 35,
   "metadata": {},
   "outputs": [
    {
     "name": "stdout",
     "output_type": "stream",
     "text": [
      "_________________________________________________________________\n",
      "Layer (type)                 Output Shape              Param #   \n",
      "=================================================================\n",
      "dense_5 (Dense)              (None, 256)               200960    \n",
      "_________________________________________________________________\n",
      "dense_6 (Dense)              (None, 512)               131584    \n",
      "_________________________________________________________________\n",
      "dense_7 (Dense)              (None, 1024)              525312    \n",
      "_________________________________________________________________\n",
      "dense_8 (Dense)              (None, 10)                10250     \n",
      "=================================================================\n",
      "Total params: 868,106\n",
      "Trainable params: 868,106\n",
      "Non-trainable params: 0\n",
      "_________________________________________________________________\n",
      "None\n"
     ]
    }
   ],
   "source": [
    "# Step 2: Build the Model\n",
    "model = Sequential()\n",
    "model.add(Dense(256,input_dim=784,activation='relu'))\n",
    "model.add(Dense(512,activation='relu'))\n",
    "model.add(Dense(1024,activation='relu'))\n",
    "model.add(Dense(10,activation='softmax'))\n",
    "print(model.summary())"
   ]
  },
  {
   "cell_type": "code",
   "execution_count": 36,
   "metadata": {},
   "outputs": [],
   "source": [
    "# Step 3: Compile the Model\n",
    "model.compile(loss='categorical_crossentropy',optimizer='adam',metrics=['accuracy'])"
   ]
  },
  {
   "cell_type": "code",
   "execution_count": 37,
   "metadata": {},
   "outputs": [
    {
     "name": "stdout",
     "output_type": "stream",
     "text": [
      "Epoch 1/2\n",
      "60000/60000 [==============================] - 9s 146us/step - loss: 0.2173 - acc: 0.9339\n",
      "Epoch 2/2\n",
      "60000/60000 [==============================] - 9s 143us/step - loss: 0.0864 - acc: 0.9735\n"
     ]
    },
    {
     "data": {
      "text/plain": [
       "<keras.callbacks.History at 0x12e277f60>"
      ]
     },
     "execution_count": 37,
     "metadata": {},
     "output_type": "execute_result"
    }
   ],
   "source": [
    "# Step 4: Train the Model\n",
    "model.fit(X_train,y_train,epochs=2,batch_size=100)"
   ]
  },
  {
   "cell_type": "code",
   "execution_count": 38,
   "metadata": {},
   "outputs": [
    {
     "name": "stdout",
     "output_type": "stream",
     "text": [
      "10000/10000 [==============================] - 1s 71us/step\n",
      "Loss =  0.08677774638745468\n",
      "Accuracy  0.9715\n"
     ]
    }
   ],
   "source": [
    "# Step 5: Evaluate the Model\n",
    "loss,accuracy = model.evaluate(X_test,y_test)\n",
    "print(\"Loss = \",loss)\n",
    "print(\"Accuracy \",accuracy)"
   ]
  },
  {
   "cell_type": "code",
   "execution_count": 42,
   "metadata": {},
   "outputs": [],
   "source": [
    "# Step 6: Save the Model\n",
    "model.save('mnist_nn.h5')"
   ]
  },
  {
   "cell_type": "markdown",
   "metadata": {},
   "source": [
    "# Predict Single Image"
   ]
  },
  {
   "cell_type": "code",
   "execution_count": 41,
   "metadata": {},
   "outputs": [
    {
     "name": "stdout",
     "output_type": "stream",
     "text": [
      "Predicted Digit :  [7]\n"
     ]
    }
   ],
   "source": [
    "import numpy as np\n",
    "index = np.random.randint(1,10000)\n",
    "X = X_test[index].reshape([-1,784])\n",
    "prediction = model.predict(X)\n",
    "print(\"Predicted Digit : \", prediction.argmax(axis=1))"
   ]
  },
  {
   "cell_type": "code",
   "execution_count": 43,
   "metadata": {},
   "outputs": [],
   "source": [
    "import matplotlib.pyplot as plt\n",
    "def show_digit(index):\n",
    "    label = y_test[index].argmax(axis=0)\n",
    "    image = X_test[index].reshape([28,28])\n",
    "    plt.title('Actual Digit : {}'.format(label))\n",
    "    plt.imshow(image, cmap='gray_r')\n",
    "    plt.show()"
   ]
  },
  {
   "cell_type": "code",
   "execution_count": 44,
   "metadata": {},
   "outputs": [
    {
     "data": {
      "image/png": "[encoded data removed]",
      "text/plain": [
       "<Figure size 432x288 with 1 Axes>"
      ]
     },
     "metadata": {
      "needs_background": "light"
     },
     "output_type": "display_data"
    }
   ],
   "source": [
    "show_digit(index)"
   ]
  },
  {
   "cell_type": "code",
   "execution_count": null,
   "metadata": {},
   "outputs": [],
   "source": []
  }
 ],
 "metadata": {
  "kernelspec": {
   "display_name": "Python 3.5",
   "language": "python",
   "name": "python3.5"
  },
  "language_info": {
   "codemirror_mode": {
    "name": "ipython",
    "version": 3
   },
   "file_extension": ".py",
   "mimetype": "text/x-python",
   "name": "python",
   "nbconvert_exporter": "python",
   "pygments_lexer": "ipython3",
   "version": "3.5.2"
  }
 },
 "nbformat": 4,
 "nbformat_minor": 2
}
