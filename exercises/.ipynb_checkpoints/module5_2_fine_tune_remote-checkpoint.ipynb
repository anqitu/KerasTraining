{
 "cells": [
  {
   "cell_type": "code",
   "execution_count": 0,
   "metadata": {
    "colab": {},
    "colab_type": "code",
    "id": "RUvLuDBUy8jm"
   },
   "outputs": [],
   "source": [
    "from keras.applications.vgg16 import VGG16\n",
    "from keras.models import Model\n",
    "from keras.layers import Dense, Flatten, Dropout\n",
    "from keras import optimizers\n",
    "from keras.preprocessing.image import ImageDataGenerator"
   ]
  },
  {
   "cell_type": "markdown",
   "metadata": {
    "colab_type": "text",
    "id": "vflUtPsa0v2u"
   },
   "source": [
    "### Mount Google Drive"
   ]
  },
  {
   "cell_type": "code",
   "execution_count": 27,
   "metadata": {
    "colab": {
     "base_uri": "https://localhost:8080/",
     "height": 121
    },
    "colab_type": "code",
    "executionInfo": {
     "elapsed": 19234,
     "status": "ok",
     "timestamp": 1568029262502,
     "user": {
      "displayName": "Anqi Tu",
      "photoUrl": "",
      "userId": "10241159283576056135"
     },
     "user_tz": -480
    },
    "id": "xcIVC0Go01xm",
    "outputId": "65c7e37d-a84b-498b-8aed-8d517a835aa2"
   },
   "outputs": [
    {
     "name": "stdout",
     "output_type": "stream",
     "text": [
      "Go to this URL in a browser: https://accounts.google.com/o/oauth2/auth?client_id=947318989803-6bn6qk8qdgf4n4g3pfee6491hc0brc4i.apps.googleusercontent.com&redirect_uri=urn%3Aietf%3Awg%3Aoauth%3A2.0%3Aoob&scope=email%20https%3A%2F%2Fwww.googleapis.com%2Fauth%2Fdocs.test%20https%3A%2F%2Fwww.googleapis.com%2Fauth%2Fdrive%20https%3A%2F%2Fwww.googleapis.com%2Fauth%2Fdrive.photos.readonly%20https%3A%2F%2Fwww.googleapis.com%2Fauth%2Fpeopleapi.readonly&response_type=code\n",
      "\n",
      "Enter your authorization code:\n",
      "··········\n",
      "Mounted at /content/drive\n"
     ]
    }
   ],
   "source": [
    "from google.colab import drive\n",
    "drive.mount('/content/drive')"
   ]
  },
  {
   "cell_type": "code",
   "execution_count": 28,
   "metadata": {
    "colab": {
     "base_uri": "https://localhost:8080/",
     "height": 34
    },
    "colab_type": "code",
    "executionInfo": {
     "elapsed": 4366,
     "status": "ok",
     "timestamp": 1568029279430,
     "user": {
      "displayName": "Anqi Tu",
      "photoUrl": "",
      "userId": "10241159283576056135"
     },
     "user_tz": -480
    },
    "id": "ITBZMTVb08-K",
    "outputId": "16a0e94c-4886-40d5-816f-0487dc13209d"
   },
   "outputs": [
    {
     "name": "stdout",
     "output_type": "stream",
     "text": [
      "'My Drive'\n"
     ]
    }
   ],
   "source": [
    "!ls /content/drive"
   ]
  },
  {
   "cell_type": "code",
   "execution_count": 46,
   "metadata": {
    "colab": {
     "base_uri": "https://localhost:8080/",
     "height": 34
    },
    "colab_type": "code",
    "executionInfo": {
     "elapsed": 4052,
     "status": "ok",
     "timestamp": 1568029574245,
     "user": {
      "displayName": "Anqi Tu",
      "photoUrl": "",
      "userId": "10241159283576056135"
     },
     "user_tz": -480
    },
    "id": "aUp6Xa561E4A",
    "outputId": "bbea58a0-ee6e-49a5-ae5f-e499b2a317b3"
   },
   "outputs": [
    {
     "name": "stdout",
     "output_type": "stream",
     "text": [
      "test  train  validation\n"
     ]
    }
   ],
   "source": [
    "!ls '/content/drive/My Drive/Tertiary Courses/Colab/DeepLearningTensorflow/dogs_cats'"
   ]
  },
  {
   "cell_type": "code",
   "execution_count": 0,
   "metadata": {
    "colab": {},
    "colab_type": "code",
    "id": "urZUX23CzNmr"
   },
   "outputs": [],
   "source": [
    "data_dir = \"/content/drive/My Drive/Tertiary Courses/Colab/DeepLearningTensorflow/dogs_cats\"\n",
    "train_data_dir = data_dir + \"/train\"\n",
    "val_data_dir = data_dir + \"/validation\"\n",
    "img_width, img_height = 150, 150 "
   ]
  },
  {
   "cell_type": "markdown",
   "metadata": {
    "colab_type": "text",
    "id": "c0ARTDUp0XjZ"
   },
   "source": [
    "### Step 1: Data Augmentation"
   ]
  },
  {
   "cell_type": "code",
   "execution_count": 0,
   "metadata": {
    "colab": {},
    "colab_type": "code",
    "id": "LFja9eYQZxzw"
   },
   "outputs": [],
   "source": [
    "# Add augmentation configuration for the data generator of train data only\n",
    "train_datagen = ImageDataGenerator(\n",
    "      rescale=1./255,\n",
    "      rotation_range=40,\n",
    "      width_shift_range=0.2,\n",
    "      height_shift_range=0.2,\n",
    "      shear_range=0.2,\n",
    "      zoom_range=0.2,\n",
    "      horizontal_flip=True,\n",
    "      fill_mode='nearest')\n",
    "\n",
    "val_datagen = ImageDataGenerator(\n",
    "    rescale = 1. / 255)"
   ]
  },
  {
   "cell_type": "code",
   "execution_count": 44,
   "metadata": {
    "colab": {
     "base_uri": "https://localhost:8080/",
     "height": 50
    },
    "colab_type": "code",
    "executionInfo": {
     "elapsed": 22964,
     "status": "ok",
     "timestamp": 1568029556382,
     "user": {
      "displayName": "Anqi Tu",
      "photoUrl": "",
      "userId": "10241159283576056135"
     },
     "user_tz": -480
    },
    "id": "CocNM7PLrgeT",
    "outputId": "33e3e419-5e94-493b-b0d5-3fc003949093"
   },
   "outputs": [
    {
     "name": "stdout",
     "output_type": "stream",
     "text": [
      "Found 4000 images belonging to 2 classes.\n",
      "Found 2000 images belonging to 2 classes.\n"
     ]
    }
   ],
   "source": [
    "train_generator = train_datagen.flow_from_directory(\n",
    "    directory=train_data_dir,\n",
    "    target_size=[img_width, img_height],\n",
    "    class_mode='binary',\n",
    "    shuffle = True,\n",
    "    batch_size = 50)\n",
    "\n",
    "val_generator = val_datagen.flow_from_directory(\n",
    "    directory = val_data_dir,\n",
    "    target_size = [img_width, img_height],\n",
    "    class_mode = 'binary',\n",
    "    shuffle = True,\n",
    "    batch_size = 50)"
   ]
  },
  {
   "cell_type": "markdown",
   "metadata": {
    "colab_type": "text",
    "id": "NAjuUPg0aK-J"
   },
   "source": [
    "### Step 2: Pre-Trained Base Model"
   ]
  },
  {
   "cell_type": "code",
   "execution_count": 0,
   "metadata": {
    "colab": {},
    "colab_type": "code",
    "id": "1wy_lnYkbw9J"
   },
   "outputs": [],
   "source": [
    "base_model = VGG16(weights='imagenet', include_top=False, input_shape = (img_width, img_height, 3))"
   ]
  },
  {
   "cell_type": "code",
   "execution_count": 15,
   "metadata": {
    "colab": {
     "base_uri": "https://localhost:8080/",
     "height": 790
    },
    "colab_type": "code",
    "executionInfo": {
     "elapsed": 978,
     "status": "ok",
     "timestamp": 1568028297224,
     "user": {
      "displayName": "Anqi Tu",
      "photoUrl": "",
      "userId": "10241159283576056135"
     },
     "user_tz": -480
    },
    "id": "_ff1mmxRcmJi",
    "outputId": "fa144e1f-b065-44fe-fe62-9727528f0ae6"
   },
   "outputs": [
    {
     "name": "stdout",
     "output_type": "stream",
     "text": [
      "Model: \"vgg16\"\n",
      "_________________________________________________________________\n",
      "Layer (type)                 Output Shape              Param #   \n",
      "=================================================================\n",
      "input_2 (InputLayer)         (None, 150, 150, 3)       0         \n",
      "_________________________________________________________________\n",
      "block1_conv1 (Conv2D)        (None, 150, 150, 64)      1792      \n",
      "_________________________________________________________________\n",
      "block1_conv2 (Conv2D)        (None, 150, 150, 64)      36928     \n",
      "_________________________________________________________________\n",
      "block1_pool (MaxPooling2D)   (None, 75, 75, 64)        0         \n",
      "_________________________________________________________________\n",
      "block2_conv1 (Conv2D)        (None, 75, 75, 128)       73856     \n",
      "_________________________________________________________________\n",
      "block2_conv2 (Conv2D)        (None, 75, 75, 128)       147584    \n",
      "_________________________________________________________________\n",
      "block2_pool (MaxPooling2D)   (None, 37, 37, 128)       0         \n",
      "_________________________________________________________________\n",
      "block3_conv1 (Conv2D)        (None, 37, 37, 256)       295168    \n",
      "_________________________________________________________________\n",
      "block3_conv2 (Conv2D)        (None, 37, 37, 256)       590080    \n",
      "_________________________________________________________________\n",
      "block3_conv3 (Conv2D)        (None, 37, 37, 256)       590080    \n",
      "_________________________________________________________________\n",
      "block3_pool (MaxPooling2D)   (None, 18, 18, 256)       0         \n",
      "_________________________________________________________________\n",
      "block4_conv1 (Conv2D)        (None, 18, 18, 512)       1180160   \n",
      "_________________________________________________________________\n",
      "block4_conv2 (Conv2D)        (None, 18, 18, 512)       2359808   \n",
      "_________________________________________________________________\n",
      "block4_conv3 (Conv2D)        (None, 18, 18, 512)       2359808   \n",
      "_________________________________________________________________\n",
      "block4_pool (MaxPooling2D)   (None, 9, 9, 512)         0         \n",
      "_________________________________________________________________\n",
      "block5_conv1 (Conv2D)        (None, 9, 9, 512)         2359808   \n",
      "_________________________________________________________________\n",
      "block5_conv2 (Conv2D)        (None, 9, 9, 512)         2359808   \n",
      "_________________________________________________________________\n",
      "block5_conv3 (Conv2D)        (None, 9, 9, 512)         2359808   \n",
      "_________________________________________________________________\n",
      "block5_pool (MaxPooling2D)   (None, 4, 4, 512)         0         \n",
      "=================================================================\n",
      "Total params: 14,714,688\n",
      "Trainable params: 14,714,688\n",
      "Non-trainable params: 0\n",
      "_________________________________________________________________\n"
     ]
    }
   ],
   "source": [
    "base_model.summary()"
   ]
  },
  {
   "cell_type": "markdown",
   "metadata": {
    "colab_type": "text",
    "id": "3lncgo8zb_Bn"
   },
   "source": [
    "### Step 3: Replace softmax Layer and add one dense layer"
   ]
  },
  {
   "cell_type": "code",
   "execution_count": 0,
   "metadata": {
    "colab": {},
    "colab_type": "code",
    "id": "Ho6dtNdg0ADj"
   },
   "outputs": [],
   "source": [
    "x = base_model.output\n",
    "x = Flatten()(x)\n",
    "x = Dense(256, activation='relu')(x) #new FC layer, random init\n",
    "x = Dropout(0.4)(x)\n",
    "predictions = Dense(1, activation='sigmoid')(x)\n",
    "model = Model(inputs=base_model.input, outputs=predictions)"
   ]
  },
  {
   "cell_type": "code",
   "execution_count": 49,
   "metadata": {
    "colab": {
     "base_uri": "https://localhost:8080/",
     "height": 924
    },
    "colab_type": "code",
    "executionInfo": {
     "elapsed": 1458,
     "status": "ok",
     "timestamp": 1568029591321,
     "user": {
      "displayName": "Anqi Tu",
      "photoUrl": "",
      "userId": "10241159283576056135"
     },
     "user_tz": -480
    },
    "id": "q8NXdq3ytwtg",
    "outputId": "70bd42a3-e0d5-42bf-f83f-14e53739fd40"
   },
   "outputs": [
    {
     "name": "stdout",
     "output_type": "stream",
     "text": [
      "Model: \"model_2\"\n",
      "_________________________________________________________________\n",
      "Layer (type)                 Output Shape              Param #   \n",
      "=================================================================\n",
      "input_2 (InputLayer)         (None, 150, 150, 3)       0         \n",
      "_________________________________________________________________\n",
      "block1_conv1 (Conv2D)        (None, 150, 150, 64)      1792      \n",
      "_________________________________________________________________\n",
      "block1_conv2 (Conv2D)        (None, 150, 150, 64)      36928     \n",
      "_________________________________________________________________\n",
      "block1_pool (MaxPooling2D)   (None, 75, 75, 64)        0         \n",
      "_________________________________________________________________\n",
      "block2_conv1 (Conv2D)        (None, 75, 75, 128)       73856     \n",
      "_________________________________________________________________\n",
      "block2_conv2 (Conv2D)        (None, 75, 75, 128)       147584    \n",
      "_________________________________________________________________\n",
      "block2_pool (MaxPooling2D)   (None, 37, 37, 128)       0         \n",
      "_________________________________________________________________\n",
      "block3_conv1 (Conv2D)        (None, 37, 37, 256)       295168    \n",
      "_________________________________________________________________\n",
      "block3_conv2 (Conv2D)        (None, 37, 37, 256)       590080    \n",
      "_________________________________________________________________\n",
      "block3_conv3 (Conv2D)        (None, 37, 37, 256)       590080    \n",
      "_________________________________________________________________\n",
      "block3_pool (MaxPooling2D)   (None, 18, 18, 256)       0         \n",
      "_________________________________________________________________\n",
      "block4_conv1 (Conv2D)        (None, 18, 18, 512)       1180160   \n",
      "_________________________________________________________________\n",
      "block4_conv2 (Conv2D)        (None, 18, 18, 512)       2359808   \n",
      "_________________________________________________________________\n",
      "block4_conv3 (Conv2D)        (None, 18, 18, 512)       2359808   \n",
      "_________________________________________________________________\n",
      "block4_pool (MaxPooling2D)   (None, 9, 9, 512)         0         \n",
      "_________________________________________________________________\n",
      "block5_conv1 (Conv2D)        (None, 9, 9, 512)         2359808   \n",
      "_________________________________________________________________\n",
      "block5_conv2 (Conv2D)        (None, 9, 9, 512)         2359808   \n",
      "_________________________________________________________________\n",
      "block5_conv3 (Conv2D)        (None, 9, 9, 512)         2359808   \n",
      "_________________________________________________________________\n",
      "block5_pool (MaxPooling2D)   (None, 4, 4, 512)         0         \n",
      "_________________________________________________________________\n",
      "flatten_6 (Flatten)          (None, 8192)              0         \n",
      "_________________________________________________________________\n",
      "dense_10 (Dense)             (None, 256)               2097408   \n",
      "_________________________________________________________________\n",
      "dropout_3 (Dropout)          (None, 256)               0         \n",
      "_________________________________________________________________\n",
      "dense_11 (Dense)             (None, 1)                 257       \n",
      "=================================================================\n",
      "Total params: 16,812,353\n",
      "Trainable params: 2,097,665\n",
      "Non-trainable params: 14,714,688\n",
      "_________________________________________________________________\n"
     ]
    }
   ],
   "source": [
    "model.summary()"
   ]
  },
  {
   "cell_type": "code",
   "execution_count": 0,
   "metadata": {
    "colab": {},
    "colab_type": "code",
    "id": "8pH6PKQXuaV2"
   },
   "outputs": [],
   "source": [
    "# Setup trainable layer\n",
    "for layer in base_model.layers:\n",
    "    layer.trainable = False"
   ]
  },
  {
   "cell_type": "code",
   "execution_count": 51,
   "metadata": {
    "colab": {
     "base_uri": "https://localhost:8080/",
     "height": 924
    },
    "colab_type": "code",
    "executionInfo": {
     "elapsed": 1108,
     "status": "ok",
     "timestamp": 1568029595498,
     "user": {
      "displayName": "Anqi Tu",
      "photoUrl": "",
      "userId": "10241159283576056135"
     },
     "user_tz": -480
    },
    "id": "7ommJXPNus-E",
    "outputId": "e1424074-32d8-4155-cbdd-0c286f2a1ce4"
   },
   "outputs": [
    {
     "name": "stdout",
     "output_type": "stream",
     "text": [
      "Model: \"model_2\"\n",
      "_________________________________________________________________\n",
      "Layer (type)                 Output Shape              Param #   \n",
      "=================================================================\n",
      "input_2 (InputLayer)         (None, 150, 150, 3)       0         \n",
      "_________________________________________________________________\n",
      "block1_conv1 (Conv2D)        (None, 150, 150, 64)      1792      \n",
      "_________________________________________________________________\n",
      "block1_conv2 (Conv2D)        (None, 150, 150, 64)      36928     \n",
      "_________________________________________________________________\n",
      "block1_pool (MaxPooling2D)   (None, 75, 75, 64)        0         \n",
      "_________________________________________________________________\n",
      "block2_conv1 (Conv2D)        (None, 75, 75, 128)       73856     \n",
      "_________________________________________________________________\n",
      "block2_conv2 (Conv2D)        (None, 75, 75, 128)       147584    \n",
      "_________________________________________________________________\n",
      "block2_pool (MaxPooling2D)   (None, 37, 37, 128)       0         \n",
      "_________________________________________________________________\n",
      "block3_conv1 (Conv2D)        (None, 37, 37, 256)       295168    \n",
      "_________________________________________________________________\n",
      "block3_conv2 (Conv2D)        (None, 37, 37, 256)       590080    \n",
      "_________________________________________________________________\n",
      "block3_conv3 (Conv2D)        (None, 37, 37, 256)       590080    \n",
      "_________________________________________________________________\n",
      "block3_pool (MaxPooling2D)   (None, 18, 18, 256)       0         \n",
      "_________________________________________________________________\n",
      "block4_conv1 (Conv2D)        (None, 18, 18, 512)       1180160   \n",
      "_________________________________________________________________\n",
      "block4_conv2 (Conv2D)        (None, 18, 18, 512)       2359808   \n",
      "_________________________________________________________________\n",
      "block4_conv3 (Conv2D)        (None, 18, 18, 512)       2359808   \n",
      "_________________________________________________________________\n",
      "block4_pool (MaxPooling2D)   (None, 9, 9, 512)         0         \n",
      "_________________________________________________________________\n",
      "block5_conv1 (Conv2D)        (None, 9, 9, 512)         2359808   \n",
      "_________________________________________________________________\n",
      "block5_conv2 (Conv2D)        (None, 9, 9, 512)         2359808   \n",
      "_________________________________________________________________\n",
      "block5_conv3 (Conv2D)        (None, 9, 9, 512)         2359808   \n",
      "_________________________________________________________________\n",
      "block5_pool (MaxPooling2D)   (None, 4, 4, 512)         0         \n",
      "_________________________________________________________________\n",
      "flatten_6 (Flatten)          (None, 8192)              0         \n",
      "_________________________________________________________________\n",
      "dense_10 (Dense)             (None, 256)               2097408   \n",
      "_________________________________________________________________\n",
      "dropout_3 (Dropout)          (None, 256)               0         \n",
      "_________________________________________________________________\n",
      "dense_11 (Dense)             (None, 1)                 257       \n",
      "=================================================================\n",
      "Total params: 16,812,353\n",
      "Trainable params: 2,097,665\n",
      "Non-trainable params: 14,714,688\n",
      "_________________________________________________________________\n"
     ]
    }
   ],
   "source": [
    "model.summary()"
   ]
  },
  {
   "cell_type": "code",
   "execution_count": 54,
   "metadata": {
    "colab": {
     "base_uri": "https://localhost:8080/",
     "height": 50
    },
    "colab_type": "code",
    "executionInfo": {
     "elapsed": 1157,
     "status": "ok",
     "timestamp": 1568029669638,
     "user": {
      "displayName": "Anqi Tu",
      "photoUrl": "",
      "userId": "10241159283576056135"
     },
     "user_tz": -480
    },
    "id": "-JSttMB12e8X",
    "outputId": "7a4e93d3-f1d5-4320-c6d9-a6290b91c552"
   },
   "outputs": [
    {
     "name": "stdout",
     "output_type": "stream",
     "text": [
      "[INFO]     Pretrained model layers: 19\n",
      "[INFO]     Total number of layers : 23\n"
     ]
    }
   ],
   "source": [
    "print(\"{:<10} Pretrained model layers: {}\".format('[INFO]', len(base_model.layers)))\n",
    "print(\"{:<10} Total number of layers : {}\".format('[INFO]', len(model.layers)))"
   ]
  },
  {
   "cell_type": "code",
   "execution_count": 0,
   "metadata": {
    "colab": {},
    "colab_type": "code",
    "id": "kjm0OcSExuC9"
   },
   "outputs": [],
   "source": [
    "model.compile(loss='binary_crossentropy',\n",
    "              optimizer='rmsprop',\n",
    "              metrics=['accuracy'])"
   ]
  },
  {
   "cell_type": "code",
   "execution_count": 58,
   "metadata": {
    "colab": {
     "base_uri": "https://localhost:8080/",
     "height": 202
    },
    "colab_type": "code",
    "executionInfo": {
     "elapsed": 2438137,
     "status": "ok",
     "timestamp": 1568032518351,
     "user": {
      "displayName": "Anqi Tu",
      "photoUrl": "",
      "userId": "10241159283576056135"
     },
     "user_tz": -480
    },
    "id": "HdzmPiUO0VpY",
    "outputId": "15642177-5f52-4c61-f3f4-48533dfccc4d"
   },
   "outputs": [
    {
     "name": "stdout",
     "output_type": "stream",
     "text": [
      "Epoch 1/25\n",
      "80/80 [==============================] - 2242s 28s/step - loss: 0.5957 - acc: 0.7043 - val_loss: 0.3703 - val_acc: 0.8215\n",
      "Epoch 2/25\n",
      "80/80 [==============================] - 49s 609ms/step - loss: 0.4730 - acc: 0.7655 - val_loss: 0.3040 - val_acc: 0.8625\n",
      "Epoch 3/25\n",
      "80/80 [==============================] - 49s 615ms/step - loss: 0.4165 - acc: 0.8040 - val_loss: 0.2819 - val_acc: 0.8730\n",
      "Epoch 4/25\n",
      "80/80 [==============================] - 48s 605ms/step - loss: 0.4074 - acc: 0.8157 - val_loss: 0.2907 - val_acc: 0.8785\n",
      "Epoch 5/25\n",
      "80/80 [==============================] - 49s 607ms/step - loss: 0.3864 - acc: 0.8207 - val_loss: 0.2955 - val_acc: 0.8740\n",
      "It takes 40.62 min to train the model\n"
     ]
    }
   ],
   "source": [
    "# train the model on the new data for a few epochs\n",
    "import time\n",
    "train_start_time = time.time()\n",
    "\n",
    "from keras.callbacks import EarlyStopping\n",
    "\n",
    "model.fit_generator(\n",
    "    train_generator,\n",
    "    epochs = 25,\n",
    "    callbacks = [EarlyStopping(monitor='val_loss', patience=2, verbose=0)],\n",
    "    validation_data = val_generator)\n",
    "model.save(data_dir + '/model/model_tf.h5')\n",
    "\n",
    "print(\"It takes {:.2f} min to train the model\".format((time.time() - train_start_time)/60 ))"
   ]
  },
  {
   "cell_type": "markdown",
   "metadata": {
    "colab_type": "text",
    "id": "m-2OHxN-3Gus"
   },
   "source": [
    "### Evaluation model"
   ]
  },
  {
   "cell_type": "code",
   "execution_count": 0,
   "metadata": {
    "colab": {},
    "colab_type": "code",
    "id": "N6900xtr3Jol"
   },
   "outputs": [],
   "source": [
    "from keras.models import load_model\n",
    "model_tf = load_model(data_dir + '/model/model_tf.h5')"
   ]
  },
  {
   "cell_type": "code",
   "execution_count": 61,
   "metadata": {
    "colab": {
     "base_uri": "https://localhost:8080/",
     "height": 34
    },
    "colab_type": "code",
    "executionInfo": {
     "elapsed": 1203,
     "status": "ok",
     "timestamp": 1568032942368,
     "user": {
      "displayName": "Anqi Tu",
      "photoUrl": "",
      "userId": "10241159283576056135"
     },
     "user_tz": -480
    },
    "id": "uDYIClTw4fCH",
    "outputId": "6455202c-94d9-4c63-d004-5c039e822ba0"
   },
   "outputs": [
    {
     "name": "stdout",
     "output_type": "stream",
     "text": [
      "Found 200 images belonging to 2 classes.\n"
     ]
    }
   ],
   "source": [
    "# Set up data generator for test data\n",
    "from keras.preprocessing.image import ImageDataGenerator\n",
    "datagen_test = ImageDataGenerator(rescale=1. / 255)\n",
    "\n",
    "test_data = datagen_test.flow_from_directory (\n",
    "    directory = data_dir + '/test',\n",
    "    target_size = [img_width, img_height],\n",
    "    class_mode = None,\n",
    "    shuffle = False,\n",
    "    batch_size = 100)"
   ]
  },
  {
   "cell_type": "code",
   "execution_count": 0,
   "metadata": {
    "colab": {},
    "colab_type": "code",
    "id": "lePvp59J41OM"
   },
   "outputs": [],
   "source": [
    "# Make prediction and Check model performance\n",
    "# Use model to yield score prediction for test data\n",
    "scores = model_tf.predict_generator(test_data)\n",
    "scores"
   ]
  },
  {
   "cell_type": "code",
   "execution_count": 63,
   "metadata": {
    "colab": {
     "base_uri": "https://localhost:8080/",
     "height": 1000
    },
    "colab_type": "code",
    "executionInfo": {
     "elapsed": 1108,
     "status": "ok",
     "timestamp": 1568033062379,
     "user": {
      "displayName": "Anqi Tu",
      "photoUrl": "",
      "userId": "10241159283576056135"
     },
     "user_tz": -480
    },
    "id": "KAAf8rrl5TDk",
    "outputId": "9c3b6412-e5ad-4128-c058-1da7f1943f51"
   },
   "outputs": [
    {
     "data": {
      "text/plain": [
       "[1.0,\n",
       " 0.0,\n",
       " 0.0,\n",
       " 0.0,\n",
       " 0.0,\n",
       " 0.0,\n",
       " 0.0,\n",
       " 0.0,\n",
       " 0.0,\n",
       " 0.0,\n",
       " 0.0,\n",
       " 0.0,\n",
       " 0.0,\n",
       " 0.0,\n",
       " 0.0,\n",
       " 0.0,\n",
       " 1.0,\n",
       " 0.0,\n",
       " 0.0,\n",
       " 0.0,\n",
       " 0.0,\n",
       " 0.0,\n",
       " 1.0,\n",
       " 0.0,\n",
       " 0.0,\n",
       " 0.0,\n",
       " 0.0,\n",
       " 0.0,\n",
       " 0.0,\n",
       " 0.0,\n",
       " 0.0,\n",
       " 0.0,\n",
       " 0.0,\n",
       " 0.0,\n",
       " 0.0,\n",
       " 0.0,\n",
       " 0.0,\n",
       " 0.0,\n",
       " 0.0,\n",
       " 0.0,\n",
       " 0.0,\n",
       " 0.0,\n",
       " 0.0,\n",
       " 0.0,\n",
       " 0.0,\n",
       " 0.0,\n",
       " 1.0,\n",
       " 0.0,\n",
       " 0.0,\n",
       " 0.0,\n",
       " 0.0,\n",
       " 0.0,\n",
       " 0.0,\n",
       " 0.0,\n",
       " 0.0,\n",
       " 0.0,\n",
       " 0.0,\n",
       " 0.0,\n",
       " 1.0,\n",
       " 0.0,\n",
       " 1.0,\n",
       " 0.0,\n",
       " 0.0,\n",
       " 0.0,\n",
       " 0.0,\n",
       " 0.0,\n",
       " 0.0,\n",
       " 0.0,\n",
       " 0.0,\n",
       " 0.0,\n",
       " 0.0,\n",
       " 0.0,\n",
       " 0.0,\n",
       " 0.0,\n",
       " 0.0,\n",
       " 0.0,\n",
       " 0.0,\n",
       " 0.0,\n",
       " 0.0,\n",
       " 0.0,\n",
       " 0.0,\n",
       " 0.0,\n",
       " 1.0,\n",
       " 0.0,\n",
       " 0.0,\n",
       " 0.0,\n",
       " 0.0,\n",
       " 1.0,\n",
       " 0.0,\n",
       " 1.0,\n",
       " 1.0,\n",
       " 0.0,\n",
       " 0.0,\n",
       " 0.0,\n",
       " 0.0,\n",
       " 0.0,\n",
       " 0.0,\n",
       " 0.0,\n",
       " 0.0,\n",
       " 0.0,\n",
       " 1.0,\n",
       " 1.0,\n",
       " 1.0,\n",
       " 1.0,\n",
       " 1.0,\n",
       " 1.0,\n",
       " 1.0,\n",
       " 1.0,\n",
       " 1.0,\n",
       " 1.0,\n",
       " 1.0,\n",
       " 1.0,\n",
       " 1.0,\n",
       " 1.0,\n",
       " 1.0,\n",
       " 1.0,\n",
       " 1.0,\n",
       " 1.0,\n",
       " 1.0,\n",
       " 1.0,\n",
       " 1.0,\n",
       " 1.0,\n",
       " 1.0,\n",
       " 1.0,\n",
       " 1.0,\n",
       " 1.0,\n",
       " 1.0,\n",
       " 1.0,\n",
       " 1.0,\n",
       " 1.0,\n",
       " 1.0,\n",
       " 1.0,\n",
       " 1.0,\n",
       " 1.0,\n",
       " 0.0,\n",
       " 1.0,\n",
       " 1.0,\n",
       " 0.0,\n",
       " 1.0,\n",
       " 1.0,\n",
       " 1.0,\n",
       " 1.0,\n",
       " 1.0,\n",
       " 1.0,\n",
       " 1.0,\n",
       " 1.0,\n",
       " 1.0,\n",
       " 1.0,\n",
       " 1.0,\n",
       " 1.0,\n",
       " 1.0,\n",
       " 1.0,\n",
       " 1.0,\n",
       " 1.0,\n",
       " 0.0,\n",
       " 1.0,\n",
       " 1.0,\n",
       " 1.0,\n",
       " 1.0,\n",
       " 1.0,\n",
       " 1.0,\n",
       " 1.0,\n",
       " 1.0,\n",
       " 1.0,\n",
       " 1.0,\n",
       " 1.0,\n",
       " 1.0,\n",
       " 1.0,\n",
       " 1.0,\n",
       " 1.0,\n",
       " 1.0,\n",
       " 1.0,\n",
       " 1.0,\n",
       " 1.0,\n",
       " 1.0,\n",
       " 1.0,\n",
       " 1.0,\n",
       " 1.0,\n",
       " 1.0,\n",
       " 1.0,\n",
       " 1.0,\n",
       " 1.0,\n",
       " 1.0,\n",
       " 1.0,\n",
       " 1.0,\n",
       " 1.0,\n",
       " 1.0,\n",
       " 0.0,\n",
       " 1.0,\n",
       " 1.0,\n",
       " 1.0,\n",
       " 1.0,\n",
       " 1.0,\n",
       " 1.0,\n",
       " 1.0,\n",
       " 1.0,\n",
       " 1.0,\n",
       " 1.0,\n",
       " 1.0,\n",
       " 1.0]"
      ]
     },
     "execution_count": 63,
     "metadata": {
      "tags": []
     },
     "output_type": "execute_result"
    }
   ],
   "source": [
    "# Process scores to get prediction result\n",
    "y_pred = [round(score[0]) for score in scores]\n",
    "y_pred"
   ]
  },
  {
   "cell_type": "code",
   "execution_count": 0,
   "metadata": {
    "colab": {},
    "colab_type": "code",
    "id": "m8YkWtLD5VJM"
   },
   "outputs": [],
   "source": [
    "# Prepare actual result using filenames\n",
    "y_true = [0 if 'cat' in filename else 1 for filename in test_data.filenames]"
   ]
  },
  {
   "cell_type": "code",
   "execution_count": 65,
   "metadata": {
    "colab": {
     "base_uri": "https://localhost:8080/",
     "height": 34
    },
    "colab_type": "code",
    "executionInfo": {
     "elapsed": 1664,
     "status": "ok",
     "timestamp": 1568033070776,
     "user": {
      "displayName": "Anqi Tu",
      "photoUrl": "",
      "userId": "10241159283576056135"
     },
     "user_tz": -480
    },
    "id": "TY4mBATx5axB",
    "outputId": "8e633d04-0ee4-4091-a362-aa0c4b57ba09"
   },
   "outputs": [
    {
     "name": "stdout",
     "output_type": "stream",
     "text": [
      "0.93\n"
     ]
    }
   ],
   "source": [
    "# Calculate accuracy score\n",
    "from sklearn.metrics import accuracy_score\n",
    "print(accuracy_score(y_true, y_pred))"
   ]
  },
  {
   "cell_type": "code",
   "execution_count": 66,
   "metadata": {
    "colab": {
     "base_uri": "https://localhost:8080/",
     "height": 166
    },
    "colab_type": "code",
    "executionInfo": {
     "elapsed": 858,
     "status": "ok",
     "timestamp": 1568033072010,
     "user": {
      "displayName": "Anqi Tu",
      "photoUrl": "",
      "userId": "10241159283576056135"
     },
     "user_tz": -480
    },
    "id": "5jt4iDno6a-Z",
    "outputId": "e844f49e-0ddd-41e9-dadc-e712e646c935"
   },
   "outputs": [
    {
     "data": {
      "text/html": [
       "<div>\n",
       "<style scoped>\n",
       "    .dataframe tbody tr th:only-of-type {\n",
       "        vertical-align: middle;\n",
       "    }\n",
       "\n",
       "    .dataframe tbody tr th {\n",
       "        vertical-align: top;\n",
       "    }\n",
       "\n",
       "    .dataframe thead th {\n",
       "        text-align: right;\n",
       "    }\n",
       "</style>\n",
       "<table border=\"1\" class=\"dataframe\">\n",
       "  <thead>\n",
       "    <tr style=\"text-align: right;\">\n",
       "      <th>Pred</th>\n",
       "      <th>0.0</th>\n",
       "      <th>1.0</th>\n",
       "      <th>All</th>\n",
       "    </tr>\n",
       "    <tr>\n",
       "      <th>True</th>\n",
       "      <th></th>\n",
       "      <th></th>\n",
       "      <th></th>\n",
       "    </tr>\n",
       "  </thead>\n",
       "  <tbody>\n",
       "    <tr>\n",
       "      <th>0</th>\n",
       "      <td>90</td>\n",
       "      <td>10</td>\n",
       "      <td>100</td>\n",
       "    </tr>\n",
       "    <tr>\n",
       "      <th>1</th>\n",
       "      <td>4</td>\n",
       "      <td>96</td>\n",
       "      <td>100</td>\n",
       "    </tr>\n",
       "    <tr>\n",
       "      <th>All</th>\n",
       "      <td>94</td>\n",
       "      <td>106</td>\n",
       "      <td>200</td>\n",
       "    </tr>\n",
       "  </tbody>\n",
       "</table>\n",
       "</div>"
      ],
      "text/plain": [
       "Pred  0.0  1.0  All\n",
       "True               \n",
       "0      90   10  100\n",
       "1       4   96  100\n",
       "All    94  106  200"
      ]
     },
     "execution_count": 66,
     "metadata": {
      "tags": []
     },
     "output_type": "execute_result"
    }
   ],
   "source": [
    "# Generate a report\n",
    "import pandas as pd\n",
    "pd.crosstab(pd.Series(y_true), pd.Series(y_pred), rownames = ['True'], colnames = ['Pred'], margins = True)"
   ]
  },
  {
   "cell_type": "markdown",
   "metadata": {
    "colab_type": "text",
    "id": "AkbQUB3p0Wc4"
   },
   "source": [
    "#### at this point, the top layers are well trained and we can start fine-tuning convolutional layers from base model. \n",
    "#### We will freeze the bottom N layers and train the remaining top layers"
   ]
  },
  {
   "cell_type": "markdown",
   "metadata": {
    "colab_type": "text",
    "id": "UeoFZ7TVtPRC"
   },
   "source": [
    "### Step 4: Unfreeze Layers"
   ]
  },
  {
   "cell_type": "code",
   "execution_count": 0,
   "metadata": {
    "colab": {},
    "colab_type": "code",
    "id": "kbIN9I4xtRmF"
   },
   "outputs": [],
   "source": [
    "# Unfreeze and train the top 5 layers\n",
    "for layer in model.layers[:5]:\n",
    "    layer.trainable = False\n",
    "for layer in model.layers[5:]:\n",
    "    layer.trainable = True"
   ]
  },
  {
   "cell_type": "code",
   "execution_count": 0,
   "metadata": {
    "colab": {},
    "colab_type": "code",
    "id": "47tNWFmuDi52"
   },
   "outputs": [],
   "source": [
    "model.summary()"
   ]
  },
  {
   "cell_type": "code",
   "execution_count": 0,
   "metadata": {
    "colab": {},
    "colab_type": "code",
    "id": "_9NnXNo15lCV"
   },
   "outputs": [],
   "source": [
    "# we need to recompile the model for these modifications to take effect\n",
    "# we use SGD with a low learning rate\n",
    "model.compile(loss='binary_crossentropy',\n",
    "              optimizer=optimizers.SGD(lr=1e-4, momentum=0.9),\n",
    "              metrics=['accuracy'])"
   ]
  },
  {
   "cell_type": "code",
   "execution_count": 69,
   "metadata": {
    "colab": {
     "base_uri": "https://localhost:8080/",
     "height": 538
    },
    "colab_type": "code",
    "executionInfo": {
     "elapsed": 874556,
     "status": "ok",
     "timestamp": 1568033960266,
     "user": {
      "displayName": "Anqi Tu",
      "photoUrl": "",
      "userId": "10241159283576056135"
     },
     "user_tz": -480
    },
    "id": "13N4N7d05qfp",
    "outputId": "4e9c84c9-67c5-494f-d9ad-c13479ecd4b2"
   },
   "outputs": [
    {
     "name": "stdout",
     "output_type": "stream",
     "text": [
      "Epoch 1/25\n",
      "80/80 [==============================] - 64s 799ms/step - loss: 0.2868 - acc: 0.8765 - val_loss: 0.2536 - val_acc: 0.9180\n",
      "Epoch 2/25\n",
      "80/80 [==============================] - 58s 722ms/step - loss: 0.2468 - acc: 0.8967 - val_loss: 0.1772 - val_acc: 0.9340\n",
      "Epoch 3/25\n",
      "80/80 [==============================] - 58s 720ms/step - loss: 0.2041 - acc: 0.9127 - val_loss: 0.2240 - val_acc: 0.9255\n",
      "Epoch 4/25\n",
      "80/80 [==============================] - 58s 722ms/step - loss: 0.1987 - acc: 0.9242 - val_loss: 0.1719 - val_acc: 0.9360\n",
      "Epoch 5/25\n",
      "80/80 [==============================] - 58s 724ms/step - loss: 0.1810 - acc: 0.9342 - val_loss: 0.1255 - val_acc: 0.9535\n",
      "Epoch 6/25\n",
      "80/80 [==============================] - 58s 719ms/step - loss: 0.1623 - acc: 0.9385 - val_loss: 0.1212 - val_acc: 0.9565\n",
      "Epoch 7/25\n",
      "80/80 [==============================] - 58s 720ms/step - loss: 0.1517 - acc: 0.9388 - val_loss: 0.1375 - val_acc: 0.9555\n",
      "Epoch 8/25\n",
      "80/80 [==============================] - 58s 720ms/step - loss: 0.1358 - acc: 0.9455 - val_loss: 0.1159 - val_acc: 0.9585\n",
      "Epoch 9/25\n",
      "80/80 [==============================] - 58s 721ms/step - loss: 0.1292 - acc: 0.9457 - val_loss: 0.1134 - val_acc: 0.9610\n",
      "Epoch 10/25\n",
      "80/80 [==============================] - 58s 720ms/step - loss: 0.1281 - acc: 0.9498 - val_loss: 0.1160 - val_acc: 0.9600\n",
      "Epoch 11/25\n",
      "80/80 [==============================] - 57s 717ms/step - loss: 0.1275 - acc: 0.9497 - val_loss: 0.1078 - val_acc: 0.9605\n",
      "Epoch 12/25\n",
      "80/80 [==============================] - 58s 719ms/step - loss: 0.1202 - acc: 0.9532 - val_loss: 0.1170 - val_acc: 0.9590\n",
      "Epoch 13/25\n",
      "80/80 [==============================] - 58s 722ms/step - loss: 0.1222 - acc: 0.9537 - val_loss: 0.1007 - val_acc: 0.9645\n",
      "Epoch 14/25\n",
      "80/80 [==============================] - 58s 731ms/step - loss: 0.1074 - acc: 0.9600 - val_loss: 0.1017 - val_acc: 0.9655\n",
      "Epoch 15/25\n",
      "80/80 [==============================] - 58s 727ms/step - loss: 0.0949 - acc: 0.9630 - val_loss: 0.1109 - val_acc: 0.9630\n",
      "It takes 14.55 min to train the model\n"
     ]
    }
   ],
   "source": [
    "import time\n",
    "train_start_time = time.time()\n",
    "from keras.callbacks import EarlyStopping\n",
    "\n",
    "model.fit_generator(\n",
    "    train_generator,\n",
    "    epochs = 25,\n",
    "    callbacks = [EarlyStopping(monitor='val_loss', patience=2, verbose=0)],\n",
    "    validation_data = val_generator)\n",
    "\n",
    "model.save(data_dir + '/model/model_finetune.h5')\n",
    "\n",
    "print(\"It takes {:.2f} min to train the model\".format((time.time() - train_start_time)/60 ))"
   ]
  },
  {
   "cell_type": "markdown",
   "metadata": {
    "colab_type": "text",
    "id": "LINKfjpdaUba"
   },
   "source": [
    "### Load Model"
   ]
  },
  {
   "cell_type": "code",
   "execution_count": 0,
   "metadata": {
    "colab": {},
    "colab_type": "code",
    "id": "pDpl7vj32HwS"
   },
   "outputs": [],
   "source": [
    "from keras.models import load_model\n",
    "model_ft = load_model(data_dir + '/model/model_finetune.h5')"
   ]
  },
  {
   "cell_type": "code",
   "execution_count": 71,
   "metadata": {
    "colab": {
     "base_uri": "https://localhost:8080/",
     "height": 1000
    },
    "colab_type": "code",
    "executionInfo": {
     "elapsed": 2667,
     "status": "ok",
     "timestamp": 1568034268936,
     "user": {
      "displayName": "Anqi Tu",
      "photoUrl": "",
      "userId": "10241159283576056135"
     },
     "user_tz": -480
    },
    "id": "s5os7MmX6QRg",
    "outputId": "a687e687-f913-4baa-de02-72c0f109fa11"
   },
   "outputs": [
    {
     "data": {
      "text/plain": [
       "array([[6.1899424e-05],\n",
       "       [7.7238679e-04],\n",
       "       [2.0861626e-06],\n",
       "       [4.2259693e-05],\n",
       "       [2.1446943e-03],\n",
       "       [1.1652708e-05],\n",
       "       [8.5532665e-06],\n",
       "       [1.1175871e-04],\n",
       "       [2.2500753e-05],\n",
       "       [1.2730062e-03],\n",
       "       [6.3672066e-03],\n",
       "       [3.7158448e-01],\n",
       "       [4.1723251e-07],\n",
       "       [3.6066771e-04],\n",
       "       [9.2387199e-07],\n",
       "       [2.0429790e-03],\n",
       "       [4.4648051e-03],\n",
       "       [7.3522329e-05],\n",
       "       [4.7683716e-07],\n",
       "       [1.9073486e-06],\n",
       "       [1.7881393e-06],\n",
       "       [1.0710955e-04],\n",
       "       [7.1940720e-03],\n",
       "       [3.6875337e-02],\n",
       "       [3.5375357e-05],\n",
       "       [2.1874905e-05],\n",
       "       [7.1933866e-03],\n",
       "       [0.0000000e+00],\n",
       "       [1.3020933e-03],\n",
       "       [3.5563707e-03],\n",
       "       [1.3444364e-02],\n",
       "       [2.0951033e-05],\n",
       "       [7.7486038e-07],\n",
       "       [9.0968609e-04],\n",
       "       [5.3644180e-07],\n",
       "       [6.9737434e-06],\n",
       "       [2.6822090e-07],\n",
       "       [3.6984682e-05],\n",
       "       [6.7383051e-05],\n",
       "       [9.2387199e-07],\n",
       "       [3.7044287e-05],\n",
       "       [5.6624413e-07],\n",
       "       [4.2446852e-03],\n",
       "       [5.2524948e-01],\n",
       "       [1.8399954e-04],\n",
       "       [2.0861626e-07],\n",
       "       [9.5860845e-01],\n",
       "       [2.9802322e-08],\n",
       "       [8.9406967e-06],\n",
       "       [1.1025965e-03],\n",
       "       [1.5199184e-06],\n",
       "       [6.4408779e-04],\n",
       "       [1.5148520e-04],\n",
       "       [2.3245811e-06],\n",
       "       [1.1199653e-02],\n",
       "       [3.2484531e-06],\n",
       "       [5.9604645e-08],\n",
       "       [3.2899082e-03],\n",
       "       [9.1272140e-01],\n",
       "       [2.1457672e-06],\n",
       "       [3.0363560e-02],\n",
       "       [4.2582452e-03],\n",
       "       [8.9406967e-06],\n",
       "       [2.9465854e-03],\n",
       "       [3.2692945e-01],\n",
       "       [4.4703484e-07],\n",
       "       [2.5987625e-05],\n",
       "       [6.7493320e-04],\n",
       "       [3.3080578e-06],\n",
       "       [2.0039082e-04],\n",
       "       [1.5488258e-01],\n",
       "       [2.9802322e-08],\n",
       "       [5.3167343e-05],\n",
       "       [2.2053719e-06],\n",
       "       [3.2230020e-03],\n",
       "       [2.0831823e-05],\n",
       "       [9.2974305e-04],\n",
       "       [1.7285347e-06],\n",
       "       [9.8088384e-03],\n",
       "       [4.4703484e-07],\n",
       "       [7.9244375e-05],\n",
       "       [5.9187412e-05],\n",
       "       [1.9052327e-03],\n",
       "       [4.7385693e-06],\n",
       "       [2.0340085e-04],\n",
       "       [5.4299831e-05],\n",
       "       [4.2515397e-03],\n",
       "       [4.5221061e-02],\n",
       "       [2.2351742e-06],\n",
       "       [4.1645467e-03],\n",
       "       [5.7999194e-03],\n",
       "       [6.7353249e-06],\n",
       "       [2.1606684e-05],\n",
       "       [7.4505806e-07],\n",
       "       [2.2947788e-06],\n",
       "       [4.1723251e-07],\n",
       "       [4.7683716e-07],\n",
       "       [2.5033951e-06],\n",
       "       [6.2197447e-05],\n",
       "       [9.0520412e-02],\n",
       "       [9.9999821e-01],\n",
       "       [9.9999481e-01],\n",
       "       [1.0000000e+00],\n",
       "       [9.9992180e-01],\n",
       "       [9.8662758e-01],\n",
       "       [9.9999976e-01],\n",
       "       [9.9293345e-01],\n",
       "       [9.9999964e-01],\n",
       "       [1.0000000e+00],\n",
       "       [1.0000000e+00],\n",
       "       [9.9912739e-01],\n",
       "       [9.9999958e-01],\n",
       "       [1.0000000e+00],\n",
       "       [1.0000000e+00],\n",
       "       [9.9999994e-01],\n",
       "       [4.9411264e-01],\n",
       "       [8.9310843e-01],\n",
       "       [9.9999928e-01],\n",
       "       [1.0000000e+00],\n",
       "       [9.9921185e-01],\n",
       "       [9.3335307e-01],\n",
       "       [1.0000000e+00],\n",
       "       [1.0000000e+00],\n",
       "       [9.8553765e-01],\n",
       "       [9.9556869e-01],\n",
       "       [9.9995720e-01],\n",
       "       [1.0000000e+00],\n",
       "       [9.9999952e-01],\n",
       "       [1.0000000e+00],\n",
       "       [1.0000000e+00],\n",
       "       [9.9999738e-01],\n",
       "       [1.0000000e+00],\n",
       "       [9.9999261e-01],\n",
       "       [1.0000000e+00],\n",
       "       [5.1537156e-04],\n",
       "       [9.5121902e-01],\n",
       "       [1.0000000e+00],\n",
       "       [8.2890224e-01],\n",
       "       [1.0000000e+00],\n",
       "       [9.9992537e-01],\n",
       "       [1.0000000e+00],\n",
       "       [9.9999964e-01],\n",
       "       [1.0000000e+00],\n",
       "       [1.0000000e+00],\n",
       "       [1.0000000e+00],\n",
       "       [9.9692261e-01],\n",
       "       [9.9999976e-01],\n",
       "       [1.0000000e+00],\n",
       "       [1.0000000e+00],\n",
       "       [9.9362612e-01],\n",
       "       [1.0000000e+00],\n",
       "       [9.9999988e-01],\n",
       "       [9.9999982e-01],\n",
       "       [9.9967575e-01],\n",
       "       [3.2281977e-01],\n",
       "       [1.0000000e+00],\n",
       "       [9.2751098e-01],\n",
       "       [1.0000000e+00],\n",
       "       [1.0000000e+00],\n",
       "       [1.0000000e+00],\n",
       "       [9.9999452e-01],\n",
       "       [9.9445289e-01],\n",
       "       [9.9999070e-01],\n",
       "       [9.9999768e-01],\n",
       "       [9.9999958e-01],\n",
       "       [9.9992585e-01],\n",
       "       [1.0000000e+00],\n",
       "       [9.9999851e-01],\n",
       "       [9.9988973e-01],\n",
       "       [1.0000000e+00],\n",
       "       [1.0000000e+00],\n",
       "       [1.0000000e+00],\n",
       "       [1.0000000e+00],\n",
       "       [1.0000000e+00],\n",
       "       [9.7020733e-01],\n",
       "       [1.0000000e+00],\n",
       "       [1.0000000e+00],\n",
       "       [1.9261351e-01],\n",
       "       [9.9998844e-01],\n",
       "       [1.0000000e+00],\n",
       "       [9.9999982e-01],\n",
       "       [9.9995470e-01],\n",
       "       [9.9165255e-01],\n",
       "       [3.1590414e-01],\n",
       "       [9.9999994e-01],\n",
       "       [9.9995828e-01],\n",
       "       [9.3465090e-01],\n",
       "       [6.1248839e-02],\n",
       "       [9.9997377e-01],\n",
       "       [1.0000000e+00],\n",
       "       [1.0000000e+00],\n",
       "       [1.0000000e+00],\n",
       "       [9.9987394e-01],\n",
       "       [9.9921060e-01],\n",
       "       [9.9998713e-01],\n",
       "       [9.9990869e-01],\n",
       "       [9.9956328e-01],\n",
       "       [1.0000000e+00],\n",
       "       [9.9998963e-01],\n",
       "       [9.4986284e-01]], dtype=float32)"
      ]
     },
     "execution_count": 71,
     "metadata": {
      "tags": []
     },
     "output_type": "execute_result"
    }
   ],
   "source": [
    "# Make prediction and Check model performance\n",
    "\n",
    "# Use model to yield score prediction for test data\n",
    "scores = model_ft.predict_generator(test_data)\n",
    "scores"
   ]
  },
  {
   "cell_type": "code",
   "execution_count": 72,
   "metadata": {
    "colab": {
     "base_uri": "https://localhost:8080/",
     "height": 1000
    },
    "colab_type": "code",
    "executionInfo": {
     "elapsed": 2080,
     "status": "ok",
     "timestamp": 1568034268937,
     "user": {
      "displayName": "Anqi Tu",
      "photoUrl": "",
      "userId": "10241159283576056135"
     },
     "user_tz": -480
    },
    "id": "ykramMjN6SKL",
    "outputId": "b22f909d-8196-44bc-a93a-1b88f8f0000f"
   },
   "outputs": [
    {
     "data": {
      "text/plain": [
       "[0.0,\n",
       " 0.0,\n",
       " 0.0,\n",
       " 0.0,\n",
       " 0.0,\n",
       " 0.0,\n",
       " 0.0,\n",
       " 0.0,\n",
       " 0.0,\n",
       " 0.0,\n",
       " 0.0,\n",
       " 0.0,\n",
       " 0.0,\n",
       " 0.0,\n",
       " 0.0,\n",
       " 0.0,\n",
       " 0.0,\n",
       " 0.0,\n",
       " 0.0,\n",
       " 0.0,\n",
       " 0.0,\n",
       " 0.0,\n",
       " 0.0,\n",
       " 0.0,\n",
       " 0.0,\n",
       " 0.0,\n",
       " 0.0,\n",
       " 0.0,\n",
       " 0.0,\n",
       " 0.0,\n",
       " 0.0,\n",
       " 0.0,\n",
       " 0.0,\n",
       " 0.0,\n",
       " 0.0,\n",
       " 0.0,\n",
       " 0.0,\n",
       " 0.0,\n",
       " 0.0,\n",
       " 0.0,\n",
       " 0.0,\n",
       " 0.0,\n",
       " 0.0,\n",
       " 1.0,\n",
       " 0.0,\n",
       " 0.0,\n",
       " 1.0,\n",
       " 0.0,\n",
       " 0.0,\n",
       " 0.0,\n",
       " 0.0,\n",
       " 0.0,\n",
       " 0.0,\n",
       " 0.0,\n",
       " 0.0,\n",
       " 0.0,\n",
       " 0.0,\n",
       " 0.0,\n",
       " 1.0,\n",
       " 0.0,\n",
       " 0.0,\n",
       " 0.0,\n",
       " 0.0,\n",
       " 0.0,\n",
       " 0.0,\n",
       " 0.0,\n",
       " 0.0,\n",
       " 0.0,\n",
       " 0.0,\n",
       " 0.0,\n",
       " 0.0,\n",
       " 0.0,\n",
       " 0.0,\n",
       " 0.0,\n",
       " 0.0,\n",
       " 0.0,\n",
       " 0.0,\n",
       " 0.0,\n",
       " 0.0,\n",
       " 0.0,\n",
       " 0.0,\n",
       " 0.0,\n",
       " 0.0,\n",
       " 0.0,\n",
       " 0.0,\n",
       " 0.0,\n",
       " 0.0,\n",
       " 0.0,\n",
       " 0.0,\n",
       " 0.0,\n",
       " 0.0,\n",
       " 0.0,\n",
       " 0.0,\n",
       " 0.0,\n",
       " 0.0,\n",
       " 0.0,\n",
       " 0.0,\n",
       " 0.0,\n",
       " 0.0,\n",
       " 0.0,\n",
       " 1.0,\n",
       " 1.0,\n",
       " 1.0,\n",
       " 1.0,\n",
       " 1.0,\n",
       " 1.0,\n",
       " 1.0,\n",
       " 1.0,\n",
       " 1.0,\n",
       " 1.0,\n",
       " 1.0,\n",
       " 1.0,\n",
       " 1.0,\n",
       " 1.0,\n",
       " 1.0,\n",
       " 0.0,\n",
       " 1.0,\n",
       " 1.0,\n",
       " 1.0,\n",
       " 1.0,\n",
       " 1.0,\n",
       " 1.0,\n",
       " 1.0,\n",
       " 1.0,\n",
       " 1.0,\n",
       " 1.0,\n",
       " 1.0,\n",
       " 1.0,\n",
       " 1.0,\n",
       " 1.0,\n",
       " 1.0,\n",
       " 1.0,\n",
       " 1.0,\n",
       " 1.0,\n",
       " 0.0,\n",
       " 1.0,\n",
       " 1.0,\n",
       " 1.0,\n",
       " 1.0,\n",
       " 1.0,\n",
       " 1.0,\n",
       " 1.0,\n",
       " 1.0,\n",
       " 1.0,\n",
       " 1.0,\n",
       " 1.0,\n",
       " 1.0,\n",
       " 1.0,\n",
       " 1.0,\n",
       " 1.0,\n",
       " 1.0,\n",
       " 1.0,\n",
       " 1.0,\n",
       " 1.0,\n",
       " 0.0,\n",
       " 1.0,\n",
       " 1.0,\n",
       " 1.0,\n",
       " 1.0,\n",
       " 1.0,\n",
       " 1.0,\n",
       " 1.0,\n",
       " 1.0,\n",
       " 1.0,\n",
       " 1.0,\n",
       " 1.0,\n",
       " 1.0,\n",
       " 1.0,\n",
       " 1.0,\n",
       " 1.0,\n",
       " 1.0,\n",
       " 1.0,\n",
       " 1.0,\n",
       " 1.0,\n",
       " 1.0,\n",
       " 1.0,\n",
       " 1.0,\n",
       " 0.0,\n",
       " 1.0,\n",
       " 1.0,\n",
       " 1.0,\n",
       " 1.0,\n",
       " 1.0,\n",
       " 0.0,\n",
       " 1.0,\n",
       " 1.0,\n",
       " 1.0,\n",
       " 0.0,\n",
       " 1.0,\n",
       " 1.0,\n",
       " 1.0,\n",
       " 1.0,\n",
       " 1.0,\n",
       " 1.0,\n",
       " 1.0,\n",
       " 1.0,\n",
       " 1.0,\n",
       " 1.0,\n",
       " 1.0,\n",
       " 1.0]"
      ]
     },
     "execution_count": 72,
     "metadata": {
      "tags": []
     },
     "output_type": "execute_result"
    }
   ],
   "source": [
    "# Process scores to get prediction result\n",
    "y_pred = [round(score[0]) for score in scores]\n",
    "y_pred"
   ]
  },
  {
   "cell_type": "code",
   "execution_count": 0,
   "metadata": {
    "colab": {},
    "colab_type": "code",
    "id": "b9WTF6XG6SgN"
   },
   "outputs": [],
   "source": [
    "# Prepare actual result using filenames\n",
    "y_true = [0 if 'cat' in filename else 1 for filename in test_data.filenames]"
   ]
  },
  {
   "cell_type": "code",
   "execution_count": 74,
   "metadata": {
    "colab": {
     "base_uri": "https://localhost:8080/",
     "height": 34
    },
    "colab_type": "code",
    "executionInfo": {
     "elapsed": 1094,
     "status": "ok",
     "timestamp": 1568034268938,
     "user": {
      "displayName": "Anqi Tu",
      "photoUrl": "",
      "userId": "10241159283576056135"
     },
     "user_tz": -480
    },
    "id": "NbMfzf8C6UZF",
    "outputId": "40c66504-4219-4700-ba6c-54205f960261"
   },
   "outputs": [
    {
     "name": "stdout",
     "output_type": "stream",
     "text": [
      "0.955\n"
     ]
    }
   ],
   "source": [
    "# Calculate accuracy score\n",
    "from sklearn.metrics import accuracy_score\n",
    "print(accuracy_score(y_true, y_pred))"
   ]
  },
  {
   "cell_type": "code",
   "execution_count": 75,
   "metadata": {
    "colab": {
     "base_uri": "https://localhost:8080/",
     "height": 166
    },
    "colab_type": "code",
    "executionInfo": {
     "elapsed": 1238,
     "status": "ok",
     "timestamp": 1568034269622,
     "user": {
      "displayName": "Anqi Tu",
      "photoUrl": "",
      "userId": "10241159283576056135"
     },
     "user_tz": -480
    },
    "id": "aLN4oyce6aCV",
    "outputId": "d0c08168-e2c2-4217-ec3e-61286c089d62"
   },
   "outputs": [
    {
     "data": {
      "text/html": [
       "<div>\n",
       "<style scoped>\n",
       "    .dataframe tbody tr th:only-of-type {\n",
       "        vertical-align: middle;\n",
       "    }\n",
       "\n",
       "    .dataframe tbody tr th {\n",
       "        vertical-align: top;\n",
       "    }\n",
       "\n",
       "    .dataframe thead th {\n",
       "        text-align: right;\n",
       "    }\n",
       "</style>\n",
       "<table border=\"1\" class=\"dataframe\">\n",
       "  <thead>\n",
       "    <tr style=\"text-align: right;\">\n",
       "      <th>Pred</th>\n",
       "      <th>0.0</th>\n",
       "      <th>1.0</th>\n",
       "      <th>All</th>\n",
       "    </tr>\n",
       "    <tr>\n",
       "      <th>True</th>\n",
       "      <th></th>\n",
       "      <th></th>\n",
       "      <th></th>\n",
       "    </tr>\n",
       "  </thead>\n",
       "  <tbody>\n",
       "    <tr>\n",
       "      <th>0</th>\n",
       "      <td>97</td>\n",
       "      <td>3</td>\n",
       "      <td>100</td>\n",
       "    </tr>\n",
       "    <tr>\n",
       "      <th>1</th>\n",
       "      <td>6</td>\n",
       "      <td>94</td>\n",
       "      <td>100</td>\n",
       "    </tr>\n",
       "    <tr>\n",
       "      <th>All</th>\n",
       "      <td>103</td>\n",
       "      <td>97</td>\n",
       "      <td>200</td>\n",
       "    </tr>\n",
       "  </tbody>\n",
       "</table>\n",
       "</div>"
      ],
      "text/plain": [
       "Pred  0.0  1.0  All\n",
       "True               \n",
       "0      97    3  100\n",
       "1       6   94  100\n",
       "All   103   97  200"
      ]
     },
     "execution_count": 75,
     "metadata": {
      "tags": []
     },
     "output_type": "execute_result"
    }
   ],
   "source": [
    "# Generate a report\n",
    "import pandas as pd\n",
    "pd.crosstab(pd.Series(y_true), pd.Series(y_pred), rownames = ['True'], colnames = ['Pred'], margins = True)"
   ]
  },
  {
   "cell_type": "markdown",
   "metadata": {
    "colab_type": "text",
    "id": "H9GiXsiY6gm9"
   },
   "source": [
    "### Read image, Preprocess image, and Make prediction"
   ]
  },
  {
   "cell_type": "code",
   "execution_count": 0,
   "metadata": {
    "colab": {},
    "colab_type": "code",
    "id": "DsnJQnoE6vsj"
   },
   "outputs": [],
   "source": [
    "# Define a function for reading image from url\n",
    "import requests, io\n",
    "from PIL import Image\n",
    "def read_image_from_url(url):\n",
    "    try:\n",
    "        r = requests.get(url, timeout=15)\n",
    "        img = Image.open(io.BytesIO(r.content))\n",
    "        return img\n",
    "    except:\n",
    "        print(\"{:<10} Cannot find image from {}\".format('[ERROR]', url))\n",
    "        exit(1)"
   ]
  },
  {
   "cell_type": "code",
   "execution_count": 0,
   "metadata": {
    "colab": {},
    "colab_type": "code",
    "id": "6sIkVAGl6w6B"
   },
   "outputs": [],
   "source": [
    "# Define a function for preprocessing image\n",
    "from PIL import Image\n",
    "import numpy as np\n",
    "def preprocess_image(img, target_size):\n",
    "    from keras.preprocessing.image import img_to_array\n",
    "    img = img.resize(target_size,Image.ANTIALIAS)\n",
    "    img = img_to_array(img)\n",
    "    img = np.expand_dims(img, axis=0)\n",
    "    img = img.astype('float32')\n",
    "    img /= 255\n",
    "    return img"
   ]
  },
  {
   "cell_type": "code",
   "execution_count": 0,
   "metadata": {
    "colab": {},
    "colab_type": "code",
    "id": "32Z1jiEg61CI"
   },
   "outputs": [],
   "source": [
    "def process_result(score):\n",
    "  return 'dog' if score > 0.5 else 'cat'"
   ]
  },
  {
   "cell_type": "code",
   "execution_count": 81,
   "metadata": {
    "colab": {
     "base_uri": "https://localhost:8080/",
     "height": 50
    },
    "colab_type": "code",
    "executionInfo": {
     "elapsed": 1362,
     "status": "ok",
     "timestamp": 1568034363019,
     "user": {
      "displayName": "Anqi Tu",
      "photoUrl": "",
      "userId": "10241159283576056135"
     },
     "user_tz": -480
    },
    "id": "xKzplow-6hOa",
    "outputId": "50a7c30b-5358-4b97-86fa-4aa8ab1c8735"
   },
   "outputs": [
    {
     "name": "stdout",
     "output_type": "stream",
     "text": [
      "Score: [[0.18564071]]\n",
      "Class: cat\n"
     ]
    }
   ],
   "source": [
    "# Read image, Preprocess image, and Make prediction\n",
    "image = read_image_from_url('https://encrypted-tbn0.gstatic.com/images?q=tbn:ANd9GcTcc_uicIa8wyfQe4a1obrQ7mtkm7jlcfVOLqfoNrd1m7x5SQo8') # replace with any image url\n",
    "image = preprocess_image(image, (img_width, img_height))\n",
    "score = model_ft.predict(image)\n",
    "print('Score: ' + str(score))\n",
    "print('Class: ' + process_result(score))"
   ]
  },
  {
   "cell_type": "code",
   "execution_count": 0,
   "metadata": {
    "colab": {},
    "colab_type": "code",
    "id": "ZKnLl1RVIJN4"
   },
   "outputs": [],
   "source": []
  }
 ],
 "metadata": {
  "accelerator": "GPU",
  "colab": {
   "collapsed_sections": [],
   "name": "module9_2_tf_fine_tune.ipynb",
   "provenance": [],
   "version": "0.3.2"
  },
  "kernelspec": {
   "display_name": "Python 3.7.0",
   "language": "python",
   "name": "python3"
  },
  "language_info": {
   "codemirror_mode": {
    "name": "ipython",
    "version": 3
   },
   "file_extension": ".py",
   "mimetype": "text/x-python",
   "name": "python",
   "nbconvert_exporter": "python",
   "pygments_lexer": "ipython3",
   "version": "3.7.0"
  }
 },
 "nbformat": 4,
 "nbformat_minor": 1
}
