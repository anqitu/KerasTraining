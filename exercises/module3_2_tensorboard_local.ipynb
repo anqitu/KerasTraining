{
 "cells": [
  {
   "cell_type": "markdown",
   "metadata": {
    "colab_type": "text",
    "id": "Hy0rIWaqY2qp"
   },
   "source": [
    "# Module 6.2 Visualizing with Keras TensorBoard Callbacks"
   ]
  },
  {
   "cell_type": "code",
   "execution_count": null,
   "metadata": {
    "colab": {
     "base_uri": "https://localhost:8080/",
     "height": 524
    },
    "colab_type": "code",
    "executionInfo": {
     "elapsed": 11875,
     "status": "ok",
     "timestamp": 1567932959787,
     "user": {
      "displayName": "Anqi Tu",
      "photoUrl": "",
      "userId": "10241159283576056135"
     },
     "user_tz": -480
    },
    "id": "c9wuy5K19orn",
    "outputId": "6df26fcf-ceb9-44f5-bdac-de02e98287c2"
   },
   "outputs": [],
   "source": [
    "# Step 1 Data Processing\n",
    "\n",
    "from tensorflow.examples.tutorials.mnist import input_data\n",
    "mnist = input_data.read_data_sets(\"mnist\", one_hot=True)\n",
    "\n",
    "X_train = mnist.train.images\n",
    "y_train = mnist.train.labels\n",
    "X_test = mnist.test.images\n",
    "y_test = mnist.test.labels"
   ]
  },
  {
   "cell_type": "code",
   "execution_count": 2,
   "metadata": {
    "colab": {
     "base_uri": "https://localhost:8080/",
     "height": 154
    },
    "colab_type": "code",
    "executionInfo": {
     "elapsed": 11867,
     "status": "ok",
     "timestamp": 1567932959791,
     "user": {
      "displayName": "Anqi Tu",
      "photoUrl": "",
      "userId": "10241159283576056135"
     },
     "user_tz": -480
    },
    "id": "CV142mpA9pnZ",
    "outputId": "12b71ea4-7f66-407e-9124-092a69875fd9"
   },
   "outputs": [
    {
     "name": "stdout",
     "output_type": "stream",
     "text": [
      "WARNING:tensorflow:From /usr/local/lib/python3.6/dist-packages/keras/backend/tensorflow_backend.py:66: The name tf.get_default_graph is deprecated. Please use tf.compat.v1.get_default_graph instead.\n",
      "\n",
      "WARNING:tensorflow:From /usr/local/lib/python3.6/dist-packages/keras/backend/tensorflow_backend.py:541: The name tf.placeholder is deprecated. Please use tf.compat.v1.placeholder instead.\n",
      "\n",
      "WARNING:tensorflow:From /usr/local/lib/python3.6/dist-packages/keras/backend/tensorflow_backend.py:4432: The name tf.random_uniform is deprecated. Please use tf.random.uniform instead.\n",
      "\n"
     ]
    },
    {
     "name": "stderr",
     "output_type": "stream",
     "text": [
      "Using TensorFlow backend.\n"
     ]
    }
   ],
   "source": [
    "from keras.models import Sequential\n",
    "from keras.layers import Dense\n",
    "\n",
    "L1 = 200\n",
    "L2 = 100\n",
    "L3 = 60\n",
    "model = Sequential()\n",
    "model.add(Dense(L1, input_dim=784,activation='relu'))\n",
    "model.add(Dense(L2, activation='relu'))\n",
    "model.add(Dense(L3, activation='relu'))\n",
    "model.add(Dense(10, activation='softmax'))"
   ]
  },
  {
   "cell_type": "code",
   "execution_count": 3,
   "metadata": {
    "colab": {
     "base_uri": "https://localhost:8080/",
     "height": 104
    },
    "colab_type": "code",
    "executionInfo": {
     "elapsed": 11866,
     "status": "ok",
     "timestamp": 1567932959793,
     "user": {
      "displayName": "Anqi Tu",
      "photoUrl": "",
      "userId": "10241159283576056135"
     },
     "user_tz": -480
    },
    "id": "yVGWM3Ui-FJ6",
    "outputId": "709c8037-250c-464b-aab8-755694fafd2a"
   },
   "outputs": [
    {
     "name": "stdout",
     "output_type": "stream",
     "text": [
      "WARNING:tensorflow:From /usr/local/lib/python3.6/dist-packages/keras/optimizers.py:793: The name tf.train.Optimizer is deprecated. Please use tf.compat.v1.train.Optimizer instead.\n",
      "\n",
      "WARNING:tensorflow:From /usr/local/lib/python3.6/dist-packages/keras/backend/tensorflow_backend.py:3576: The name tf.log is deprecated. Please use tf.math.log instead.\n",
      "\n"
     ]
    }
   ],
   "source": [
    "model.compile(loss='categorical_crossentropy',\n",
    "             optimizer='adam',\n",
    "             metrics=['acc'])"
   ]
  },
  {
   "cell_type": "code",
   "execution_count": 0,
   "metadata": {
    "colab": {},
    "colab_type": "code",
    "id": "z6EtvgAjDjwv"
   },
   "outputs": [],
   "source": [
    "log_dir = 'relu'"
   ]
  },
  {
   "cell_type": "code",
   "execution_count": 0,
   "metadata": {
    "colab": {},
    "colab_type": "code",
    "id": "fLqF2ETf-jDo"
   },
   "outputs": [],
   "source": [
    "import keras\n",
    "tb = keras.callbacks.TensorBoard(log_dir=log_dir,write_graph=True)"
   ]
  },
  {
   "cell_type": "code",
   "execution_count": 6,
   "metadata": {
    "colab": {
     "base_uri": "https://localhost:8080/",
     "height": 558
    },
    "colab_type": "code",
    "executionInfo": {
     "elapsed": 9701,
     "status": "ok",
     "timestamp": 1567932981927,
     "user": {
      "displayName": "Anqi Tu",
      "photoUrl": "",
      "userId": "10241159283576056135"
     },
     "user_tz": -480
    },
    "id": "loSzA85U-R7n",
    "outputId": "8506fea1-0ca0-486f-b21d-b709dbb6c669"
   },
   "outputs": [
    {
     "name": "stdout",
     "output_type": "stream",
     "text": [
      "WARNING:tensorflow:From /usr/local/lib/python3.6/dist-packages/tensorflow/python/ops/math_grad.py:1250: add_dispatch_support.<locals>.wrapper (from tensorflow.python.ops.array_ops) is deprecated and will be removed in a future version.\n",
      "Instructions for updating:\n",
      "Use tf.where in 2.0, which has the same broadcast rule as np.where\n",
      "WARNING:tensorflow:From /usr/local/lib/python3.6/dist-packages/keras/backend/tensorflow_backend.py:1033: The name tf.assign_add is deprecated. Please use tf.compat.v1.assign_add instead.\n",
      "\n",
      "Train on 10000 samples, validate on 10000 samples\n",
      "WARNING:tensorflow:From /usr/local/lib/python3.6/dist-packages/keras/callbacks.py:1122: The name tf.summary.merge_all is deprecated. Please use tf.compat.v1.summary.merge_all instead.\n",
      "\n",
      "WARNING:tensorflow:From /usr/local/lib/python3.6/dist-packages/keras/callbacks.py:1125: The name tf.summary.FileWriter is deprecated. Please use tf.compat.v1.summary.FileWriter instead.\n",
      "\n",
      "Epoch 1/10\n",
      "10000/10000 [==============================] - 1s 117us/step - loss: 0.6936 - acc: 0.7966 - val_loss: 0.2371 - val_acc: 0.9315\n",
      "Epoch 2/10\n",
      "10000/10000 [==============================] - 1s 70us/step - loss: 0.2135 - acc: 0.9350 - val_loss: 0.1431 - val_acc: 0.9577\n",
      "Epoch 3/10\n",
      "10000/10000 [==============================] - 1s 72us/step - loss: 0.1464 - acc: 0.9561 - val_loss: 0.0938 - val_acc: 0.9752\n",
      "Epoch 4/10\n",
      "10000/10000 [==============================] - 1s 71us/step - loss: 0.0973 - acc: 0.9705 - val_loss: 0.0657 - val_acc: 0.9829\n",
      "Epoch 5/10\n",
      "10000/10000 [==============================] - 1s 69us/step - loss: 0.0683 - acc: 0.9802 - val_loss: 0.0529 - val_acc: 0.9857\n",
      "Epoch 6/10\n",
      "10000/10000 [==============================] - 1s 69us/step - loss: 0.0460 - acc: 0.9878 - val_loss: 0.0354 - val_acc: 0.9907\n",
      "Epoch 7/10\n",
      "10000/10000 [==============================] - 1s 70us/step - loss: 0.0373 - acc: 0.9895 - val_loss: 0.0191 - val_acc: 0.9967\n",
      "Epoch 8/10\n",
      "10000/10000 [==============================] - 1s 71us/step - loss: 0.0208 - acc: 0.9950 - val_loss: 0.0164 - val_acc: 0.9973\n",
      "Epoch 9/10\n",
      "10000/10000 [==============================] - 1s 70us/step - loss: 0.0189 - acc: 0.9954 - val_loss: 0.0126 - val_acc: 0.9981\n",
      "Epoch 10/10\n",
      "10000/10000 [==============================] - 1s 69us/step - loss: 0.0091 - acc: 0.9990 - val_loss: 0.0070 - val_acc: 0.9995\n"
     ]
    },
    {
     "data": {
      "text/plain": [
       "<keras.callbacks.History at 0x7f9abdef3550>"
      ]
     },
     "execution_count": 6,
     "metadata": {
      "tags": []
     },
     "output_type": "execute_result"
    }
   ],
   "source": [
    "model.fit(X_test,y_test,batch_size=100,epochs=10,callbacks=[tb],validation_data=(X_test,y_test))"
   ]
  },
  {
   "cell_type": "markdown",
   "metadata": {
    "colab_type": "text",
    "id": "8ySvxS6jY_TF"
   },
   "source": [
    "Download the event file to your local drive and run\n",
    "\n",
    "tensorboard --logdir= your_folder"
   ]
  },
  {
   "cell_type": "markdown",
   "metadata": {
    "colab_type": "text",
    "id": "HuuCvRFdYbZx"
   },
   "source": [
    "# Exercise: Add Sigmoid to the Tensorboard"
   ]
  },
  {
   "cell_type": "code",
   "execution_count": 0,
   "metadata": {
    "colab": {},
    "colab_type": "code",
    "id": "YNbqlB-c-ZYC"
   },
   "outputs": [],
   "source": [
    "from keras.models import Sequential\n",
    "from keras.layers import Dense\n",
    "\n",
    "L1 = 200\n",
    "L2 = 100\n",
    "L3 = 60\n",
    "model = Sequential()\n",
    "model.add(Dense(L1, input_dim=784,activation='sigmoid'))\n",
    "model.add(Dense(L2, activation='sigmoid'))\n",
    "model.add(Dense(L3, activation='sigmoid'))\n",
    "model.add(Dense(10, activation='softmax'))"
   ]
  },
  {
   "cell_type": "code",
   "execution_count": 0,
   "metadata": {
    "colab": {},
    "colab_type": "code",
    "id": "Po8EDsQgYp7k"
   },
   "outputs": [],
   "source": [
    "model.compile(loss='categorical_crossentropy',\n",
    "             optimizer='adam',\n",
    "             metrics=['acc'])"
   ]
  },
  {
   "cell_type": "code",
   "execution_count": 0,
   "metadata": {
    "colab": {},
    "colab_type": "code",
    "id": "vHtpytgWDjxC"
   },
   "outputs": [],
   "source": [
    "log_dir = 'sigmoid'"
   ]
  },
  {
   "cell_type": "code",
   "execution_count": 0,
   "metadata": {
    "colab": {},
    "colab_type": "code",
    "id": "5dDcQkV2YsGQ"
   },
   "outputs": [],
   "source": [
    "import keras\n",
    "tb = keras.callbacks.TensorBoard(log_dir=log_dir,write_graph=True)"
   ]
  },
  {
   "cell_type": "code",
   "execution_count": 0,
   "metadata": {
    "colab": {},
    "colab_type": "code",
    "id": "zFtRpFchYueE",
    "outputId": "72f62c4e-7ec8-45f3-a313-157bb0f3f108"
   },
   "outputs": [
    {
     "name": "stdout",
     "output_type": "stream",
     "text": [
      "Train on 10000 samples, validate on 10000 samples\n",
      "Epoch 1/10\n",
      "10000/10000 [==============================] - 0s 46us/step - loss: 0.1335 - acc: 0.9654 - val_loss: 0.1150 - val_acc: 0.9725\n",
      "Epoch 2/10\n",
      "10000/10000 [==============================] - 0s 50us/step - loss: 0.1151 - acc: 0.9709 - val_loss: 0.1006 - val_acc: 0.9764\n",
      "Epoch 3/10\n",
      "10000/10000 [==============================] - 0s 42us/step - loss: 0.1023 - acc: 0.9759 - val_loss: 0.0858 - val_acc: 0.9820\n",
      "Epoch 4/10\n",
      "10000/10000 [==============================] - 0s 43us/step - loss: 0.0896 - acc: 0.9792 - val_loss: 0.0809 - val_acc: 0.9813\n",
      "Epoch 5/10\n",
      "10000/10000 [==============================] - 0s 44us/step - loss: 0.0796 - acc: 0.9822 - val_loss: 0.0670 - val_acc: 0.9867\n",
      "Epoch 6/10\n",
      "10000/10000 [==============================] - 0s 42us/step - loss: 0.0709 - acc: 0.9843 - val_loss: 0.0583 - val_acc: 0.9884\n",
      "Epoch 7/10\n",
      "10000/10000 [==============================] - 0s 43us/step - loss: 0.0599 - acc: 0.9877 - val_loss: 0.0533 - val_acc: 0.9896\n",
      "Epoch 8/10\n",
      "10000/10000 [==============================] - 0s 41us/step - loss: 0.0531 - acc: 0.9895 - val_loss: 0.0435 - val_acc: 0.9933\n",
      "Epoch 9/10\n",
      "10000/10000 [==============================] - 0s 42us/step - loss: 0.0462 - acc: 0.9906 - val_loss: 0.0405 - val_acc: 0.9935\n",
      "Epoch 10/10\n",
      "10000/10000 [==============================] - 0s 43us/step - loss: 0.0393 - acc: 0.9936 - val_loss: 0.0326 - val_acc: 0.9957\n"
     ]
    },
    {
     "data": {
      "text/plain": [
       "<keras.callbacks.History at 0x126fe8940>"
      ]
     },
     "execution_count": 16,
     "metadata": {
      "tags": []
     },
     "output_type": "execute_result"
    }
   ],
   "source": [
    "model.fit(X_test,y_test,batch_size=100,epochs=10,callbacks=[tb],validation_data=(X_test,y_test))"
   ]
  },
  {
   "cell_type": "code",
   "execution_count": 0,
   "metadata": {
    "colab": {},
    "colab_type": "code",
    "id": "zIZfvC2sDjxK"
   },
   "outputs": [],
   "source": []
  }
 ],
 "metadata": {
  "colab": {
   "collapsed_sections": [],
   "name": "module6_2_keras_tensorboard.ipynb",
   "provenance": [],
   "toc_visible": true,
   "version": "0.3.2"
  },
  "kernelspec": {
   "display_name": "Python 3.6.8",
   "language": "python",
   "name": "python3.6.8"
  },
  "language_info": {
   "codemirror_mode": {
    "name": "ipython",
    "version": 3
   },
   "file_extension": ".py",
   "mimetype": "text/x-python",
   "name": "python",
   "nbconvert_exporter": "python",
   "pygments_lexer": "ipython3",
   "version": "3.6.8"
  }
 },
 "nbformat": 4,
 "nbformat_minor": 1
}
